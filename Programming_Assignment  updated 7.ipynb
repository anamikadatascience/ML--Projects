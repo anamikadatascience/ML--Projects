{
 "cells": [
  {
   "cell_type": "markdown",
   "id": "36132733",
   "metadata": {},
   "source": [
    "1.\tWrite a Python Program to find sum of array?"
   ]
  },
  {
   "cell_type": "code",
   "execution_count": 1,
   "id": "8a1bde5e",
   "metadata": {},
   "outputs": [
    {
     "name": "stdout",
     "output_type": "stream",
     "text": [
      "The sum of elements in the array is 55.\n"
     ]
    }
   ],
   "source": [
    "def array_sum(arr):\n",
    "    total = 0\n",
    "    for num in arr:\n",
    "        total += num\n",
    "    return total\n",
    "\n",
    "# Example array\n",
    "numbers = [10, 5, 20, 8, 12]\n",
    "result = array_sum(numbers)\n",
    "print(f\"The sum of elements in the array is {result}.\")"
   ]
  },
  {
   "cell_type": "markdown",
   "id": "fc8a28c4",
   "metadata": {},
   "source": [
    "2.\tWrite a Python Program to find largest element in an array?"
   ]
  },
  {
   "cell_type": "code",
   "execution_count": 2,
   "id": "28dd8c6e",
   "metadata": {},
   "outputs": [
    {
     "name": "stdout",
     "output_type": "stream",
     "text": [
      "The largest element in the array is 20.\n"
     ]
    }
   ],
   "source": [
    "def find_largest_element(arr):\n",
    "    largest = arr[0]\n",
    "    for num in arr:\n",
    "        if num > largest:\n",
    "            largest = num\n",
    "    return largest\n",
    "\n",
    "# Example array\n",
    "numbers = [10, 5, 20, 8, 12]\n",
    "result = find_largest_element(numbers)\n",
    "print(f\"The largest element in the array is {result}.\")"
   ]
  },
  {
   "cell_type": "markdown",
   "id": "71b98ee4",
   "metadata": {},
   "source": [
    "3.\tWrite a Python Program for array rotation?"
   ]
  },
  {
   "cell_type": "code",
   "execution_count": 3,
   "id": "df79d79c",
   "metadata": {},
   "outputs": [
    {
     "name": "stdout",
     "output_type": "stream",
     "text": [
      "Original array: [1, 2, 3, 4, 5, 6, 7]\n",
      "Rotated array by 2 positions: [3, 4, 5, 6, 7, 1, 2]\n"
     ]
    }
   ],
   "source": [
    "def rotate_array(arr, rotate_by):\n",
    "    n = len(arr)\n",
    "    rotate_by %= n\n",
    "    rotated = arr[rotate_by:] + arr[:rotate_by]\n",
    "    return rotated\n",
    "\n",
    "# Example array\n",
    "numbers = [1, 2, 3, 4, 5, 6, 7]\n",
    "rotate_by = 2\n",
    "rotated_array = rotate_array(numbers, rotate_by)\n",
    "print(f\"Original array: {numbers}\")\n",
    "print(f\"Rotated array by {rotate_by} positions: {rotated_array}\")"
   ]
  },
  {
   "cell_type": "markdown",
   "id": "29cf1651",
   "metadata": {},
   "source": [
    "4.\tWrite a Python Program to Split the array and add the first part to the end?"
   ]
  },
  {
   "cell_type": "code",
   "execution_count": 4,
   "id": "aecdae42",
   "metadata": {},
   "outputs": [
    {
     "name": "stdout",
     "output_type": "stream",
     "text": [
      "Original array: [1, 2, 3, 4, 5, 6, 7]\n",
      "Array after splitting and adding: [4, 5, 6, 7, 1, 2, 3]\n"
     ]
    }
   ],
   "source": [
    "def split_and_add(arr, split_point):\n",
    "    if split_point >= len(arr):\n",
    "        return arr\n",
    "    return arr[split_point:] + arr[:split_point]\n",
    "\n",
    "# Example array\n",
    "numbers = [1, 2, 3, 4, 5, 6, 7]\n",
    "split_point = 3\n",
    "result = split_and_add(numbers, split_point)\n",
    "print(f\"Original array: {numbers}\")\n",
    "print(f\"Array after splitting and adding: {result}\")"
   ]
  },
  {
   "cell_type": "markdown",
   "id": "2fa965da",
   "metadata": {},
   "source": [
    "5.\tWrite a Python Program to check if given array is Monotonic?"
   ]
  },
  {
   "cell_type": "code",
   "execution_count": 5,
   "id": "875ce48e",
   "metadata": {},
   "outputs": [
    {
     "name": "stdout",
     "output_type": "stream",
     "text": [
      "Is arr1 monotonic? True\n",
      "Is arr2 monotonic? True\n",
      "Is arr3 monotonic? False\n"
     ]
    }
   ],
   "source": [
    "def is_monotonic(arr):\n",
    "    increasing = decreasing = True\n",
    "    \n",
    "    for i in range(1, len(arr)):\n",
    "        if arr[i] > arr[i - 1]:\n",
    "            decreasing = False\n",
    "        elif arr[i] < arr[i - 1]:\n",
    "            increasing = False\n",
    "    \n",
    "    return increasing or decreasing\n",
    "\n",
    "# Example arrays\n",
    "arr1 = [1, 2, 3, 4, 5]\n",
    "arr2 = [5, 4, 3, 2, 1]\n",
    "arr3 = [1, 3, 2, 4, 5]\n",
    "\n",
    "print(f\"Is arr1 monotonic? {is_monotonic(arr1)}\")\n",
    "print(f\"Is arr2 monotonic? {is_monotonic(arr2)}\")\n",
    "print(f\"Is arr3 monotonic? {is_monotonic(arr3)}\")\n"
   ]
  },
  {
   "cell_type": "code",
   "execution_count": null,
   "id": "5aa829a6",
   "metadata": {},
   "outputs": [],
   "source": []
  }
 ],
 "metadata": {
  "kernelspec": {
   "display_name": "Python 3 (ipykernel)",
   "language": "python",
   "name": "python3"
  },
  "language_info": {
   "codemirror_mode": {
    "name": "ipython",
    "version": 3
   },
   "file_extension": ".py",
   "mimetype": "text/x-python",
   "name": "python",
   "nbconvert_exporter": "python",
   "pygments_lexer": "ipython3",
   "version": "3.8.16"
  }
 },
 "nbformat": 4,
 "nbformat_minor": 5
}
