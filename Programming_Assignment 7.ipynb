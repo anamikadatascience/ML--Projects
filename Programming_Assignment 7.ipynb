{
 "cells": [
  {
   "cell_type": "markdown",
   "id": "36132733",
   "metadata": {},
   "source": [
    "1.\tWrite a Python Program to find sum of array?"
   ]
  },
  {
   "cell_type": "code",
   "execution_count": 1,
   "id": "8a1bde5e",
   "metadata": {},
   "outputs": [],
   "source": [
    "def sum_array(array):\n",
    "    total_sum = 0\n",
    "    for i in array:\n",
    "        total_sum += i\n",
    "        return total_sum"
   ]
  },
  {
   "cell_type": "markdown",
   "id": "fc8a28c4",
   "metadata": {},
   "source": [
    "2.\tWrite a Python Program to find largest element in an array?"
   ]
  },
  {
   "cell_type": "code",
   "execution_count": 2,
   "id": "28dd8c6e",
   "metadata": {},
   "outputs": [],
   "source": [
    "def find_longest_element(array):\n",
    "    if not array:\n",
    "        return None\n",
    "\n",
    "    largest = array[0]\n",
    "    for num in array:\n",
    "        if num > largest:\n",
    "            largest = num\n",
    "            return largest\n",
    "    "
   ]
  },
  {
   "cell_type": "markdown",
   "id": "71b98ee4",
   "metadata": {},
   "source": [
    "3.\tWrite a Python Program for array rotation?"
   ]
  },
  {
   "cell_type": "code",
   "execution_count": 3,
   "id": "df79d79c",
   "metadata": {},
   "outputs": [],
   "source": [
    "def rotate_left(array,position):\n",
    "    if not array:\n",
    "        return array\n",
    "    position %= len(array)\n",
    "    return array[position:] + array[:position]"
   ]
  },
  {
   "cell_type": "markdown",
   "id": "29cf1651",
   "metadata": {},
   "source": [
    "4.\tWrite a Python Program to Split the array and add the first part to the end?"
   ]
  },
  {
   "cell_type": "code",
   "execution_count": 4,
   "id": "aecdae42",
   "metadata": {},
   "outputs": [],
   "source": [
    "def split_and_add(array , split_index):\n",
    "    if not array:\n",
    "        return array\n",
    "    split_index %= len(array)\n",
    "    return array[split_index:] + array[:split_index]\n"
   ]
  },
  {
   "cell_type": "markdown",
   "id": "2fa965da",
   "metadata": {},
   "source": [
    "5.\tWrite a Python Program to check if given array is Monotonic?"
   ]
  },
  {
   "cell_type": "code",
   "execution_count": 6,
   "id": "875ce48e",
   "metadata": {},
   "outputs": [],
   "source": [
    "def is_monotonic(array):\n",
    "    increasing = decreasing = True\n",
    "    \n",
    "    for i in range(1,len(array)):\n",
    "        if array[i] > array[i-1]:\n",
    "            decreasing = False\n",
    "        elif array[i] < array[i-1]:\n",
    "            increasing = True"
   ]
  },
  {
   "cell_type": "code",
   "execution_count": null,
   "id": "5aa829a6",
   "metadata": {},
   "outputs": [],
   "source": []
  }
 ],
 "metadata": {
  "kernelspec": {
   "display_name": "Python 3 (ipykernel)",
   "language": "python",
   "name": "python3"
  },
  "language_info": {
   "codemirror_mode": {
    "name": "ipython",
    "version": 3
   },
   "file_extension": ".py",
   "mimetype": "text/x-python",
   "name": "python",
   "nbconvert_exporter": "python",
   "pygments_lexer": "ipython3",
   "version": "3.8.16"
  }
 },
 "nbformat": 4,
 "nbformat_minor": 5
}
