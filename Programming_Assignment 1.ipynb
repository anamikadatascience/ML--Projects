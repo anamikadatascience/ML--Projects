{
 "cells": [
  {
   "cell_type": "markdown",
   "id": "ee299818",
   "metadata": {},
   "source": [
    "1. Write a Python program to print \"Hello Python\"?"
   ]
  },
  {
   "cell_type": "code",
   "execution_count": 1,
   "id": "4ccbec81",
   "metadata": {},
   "outputs": [
    {
     "name": "stdout",
     "output_type": "stream",
     "text": [
      "hello Python\n"
     ]
    }
   ],
   "source": [
    "print(\"hello Python\")"
   ]
  },
  {
   "cell_type": "markdown",
   "id": "07a6c2c7",
   "metadata": {},
   "source": [
    "2.Write a Python program to do arithmetical operations addition and division.?"
   ]
  },
  {
   "cell_type": "code",
   "execution_count": 2,
   "id": "b457b9f5",
   "metadata": {},
   "outputs": [],
   "source": [
    "def addition(x,y):\n",
    "    return x+y\n",
    "\n",
    "def division(x,y):\n",
    "    if x == 0:\n",
    "        return x / y"
   ]
  },
  {
   "cell_type": "markdown",
   "id": "8c7cdaa4",
   "metadata": {},
   "source": [
    "3.\tWrite a Python program to find the area of a triangle?"
   ]
  },
  {
   "cell_type": "code",
   "execution_count": 3,
   "id": "0b9e1f96",
   "metadata": {},
   "outputs": [],
   "source": [
    "def triangle_area(base,height):\n",
    "    return base * height/2\n"
   ]
  },
  {
   "cell_type": "markdown",
   "id": "d71b05f8",
   "metadata": {},
   "source": [
    "4.\tWrite a Python program to swap two variables?"
   ]
  },
  {
   "cell_type": "code",
   "execution_count": 9,
   "id": "d6fb7dcb",
   "metadata": {},
   "outputs": [],
   "source": [
    "def swap_variables(x,y):\n",
    "    temp_var = x\n",
    "    x = y\n",
    "    y = temp_var\n",
    "    return x,y\n",
    "    \n",
    "            \n",
    "        "
   ]
  },
  {
   "cell_type": "markdown",
   "id": "aea2bd87",
   "metadata": {},
   "source": [
    "5.\tWrite a Python program to generate a random number?"
   ]
  },
  {
   "cell_type": "code",
   "execution_count": 12,
   "id": "6ce6d614",
   "metadata": {},
   "outputs": [],
   "source": [
    "def generate_random_number(start,end):\n",
    "    return random.randint(start,end)"
   ]
  },
  {
   "cell_type": "code",
   "execution_count": null,
   "id": "f5d665e0",
   "metadata": {},
   "outputs": [],
   "source": []
  }
 ],
 "metadata": {
  "kernelspec": {
   "display_name": "Python 3 (ipykernel)",
   "language": "python",
   "name": "python3"
  },
  "language_info": {
   "codemirror_mode": {
    "name": "ipython",
    "version": 3
   },
   "file_extension": ".py",
   "mimetype": "text/x-python",
   "name": "python",
   "nbconvert_exporter": "python",
   "pygments_lexer": "ipython3",
   "version": "3.8.16"
  }
 },
 "nbformat": 4,
 "nbformat_minor": 5
}
