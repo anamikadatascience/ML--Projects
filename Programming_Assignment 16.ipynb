{
 "cells": [
  {
   "cell_type": "markdown",
   "id": "edd06d88",
   "metadata": {},
   "source": [
    "1. Write a function that stutters a word as if someone is struggling to read it. The first two letters are repeated twice with an ellipsis ... and space after each, and then the word is pronounced with a question mark ?.\n",
    "Examples\n",
    "stutter(\"incredible\") ➞ \"in... in... incredible?\"\n",
    "\n",
    "stutter(\"enthusiastic\") ➞ \"en... en... enthusiastic?\"\n",
    "\n",
    "stutter(\"outstanding\") ➞ \"ou... ou... outstanding?\"\n",
    "\n",
    "Hint :- Assume all input is in lower case and at least two characters long.\n",
    "\n"
   ]
  },
  {
   "cell_type": "code",
   "execution_count": 1,
   "id": "fd6165a4",
   "metadata": {},
   "outputs": [
    {
     "name": "stdout",
     "output_type": "stream",
     "text": [
      "in... in... incredible?\n",
      "en... en... enthusiastic?\n",
      "ou... ou... outstanding?\n"
     ]
    }
   ],
   "source": [
    "def stutter(word):\n",
    "    return f\"{word[:2]}... {word[:2]}... {word}?\"\n",
    "\n",
    "# Test cases\n",
    "print(stutter(\"incredible\"))    # Output: \"in... in... incredible?\"\n",
    "print(stutter(\"enthusiastic\"))  # Output: \"en... en... enthusiastic?\"\n",
    "print(stutter(\"outstanding\"))   # Output: \"ou... ou... outstanding?\""
   ]
  },
  {
   "cell_type": "markdown",
   "id": "987bf1d1",
   "metadata": {},
   "source": [
    "Question 2.Create a function that takes an angle in radians and returns the corresponding angle in degrees rounded to one decimal place.\n",
    "Examples\n",
    "radians_to_degrees(1) ➞ 57.3\n",
    "\n",
    "radians_to_degrees(20) ➞ 1145.9\n",
    "\n",
    "radians_to_degrees(50) ➞ 2864.8\n",
    "\n",
    "\n"
   ]
  },
  {
   "cell_type": "code",
   "execution_count": 3,
   "id": "fb4491f6",
   "metadata": {},
   "outputs": [
    {
     "name": "stdout",
     "output_type": "stream",
     "text": [
      "90.0\n",
      "180.0\n"
     ]
    }
   ],
   "source": [
    "import math\n",
    "\n",
    "def radians_to_degrees(angle_radians):\n",
    "    angle_degrees = angle_radians * (180 / math.pi)\n",
    "    rounded_angle = round(angle_degrees, 1)\n",
    "    return rounded_angle\n",
    "\n",
    "# Test cases\n",
    "angle_rad_1 = 1.5708  # 90 degrees in radians\n",
    "angle_rad_2 = 3.14159  # 180 degrees in radians\n",
    "\n",
    "print(radians_to_degrees(angle_rad_1))  # Output: 90.0\n",
    "print(radians_to_degrees(angle_rad_2))  # Output: 180.0"
   ]
  },
  {
   "cell_type": "markdown",
   "id": "7aa470b6",
   "metadata": {},
   "source": [
    "Question 3. In this challenge, establish if a given integer num is a Curzon number. If 1 plus 2 elevated to num is exactly divisible by 1 plus 2 multiplied by num, then num is a Curzon number.\n",
    "Given a non-negative integer num, implement a function that returns True if num is a Curzon number, or False otherwise.\n",
    "Examples\n",
    "is_curzon(5) ➞ True\n",
    "# 2 ** 5 + 1 = 33\n",
    "# 2 * 5 + 1 = 11\n",
    "# 33 is a multiple of 11\n",
    "\n",
    "is_curzon(10) ➞ False\n",
    "# 2 ** 10 + 1 = 1025\n",
    "# 2 * 10 + 1 = 21\n",
    "# 1025 is not a multiple of 21\n",
    "\n",
    "is_curzon(14) ➞ True\n",
    "# 2 ** 14 + 1 = 16385\n",
    "# 2 * 14 + 1 = 29\n",
    "# 16385 is a multiple of 29\n"
   ]
  },
  {
   "cell_type": "code",
   "execution_count": 4,
   "id": "9df16400",
   "metadata": {},
   "outputs": [
    {
     "name": "stdout",
     "output_type": "stream",
     "text": [
      "True\n",
      "False\n",
      "True\n"
     ]
    }
   ],
   "source": [
    "def is_curzon(num):\n",
    "    power_term = 2 ** num + 1\n",
    "    multiple_term = 2 * num + 1\n",
    "    return power_term % multiple_term == 0\n",
    "\n",
    "# Test cases\n",
    "print(is_curzon(5))   # Output: True\n",
    "print(is_curzon(10))  # Output: False\n",
    "print(is_curzon(14))  # Output: True"
   ]
  },
  {
   "cell_type": "markdown",
   "id": "b68baf89",
   "metadata": {},
   "source": [
    "Question 4.Given the side length x find the area of a hexagon.\n",
    " \n",
    "Examples\n",
    "area_of_hexagon(1) ➞ 2.6\n",
    "\n",
    "area_of_hexagon(2) ➞ 10.4\n",
    "\n",
    "area_of_hexagon(3) ➞ 23.4\n",
    "\n",
    "\n"
   ]
  },
  {
   "cell_type": "code",
   "execution_count": 5,
   "id": "5e94af2e",
   "metadata": {},
   "outputs": [
    {
     "name": "stdout",
     "output_type": "stream",
     "text": [
      "2.6\n",
      "10.4\n",
      "23.4\n"
     ]
    }
   ],
   "source": [
    "import math\n",
    "\n",
    "def area_of_hexagon(side_length):\n",
    "    area = (3 * math.sqrt(3) * (side_length ** 2)) / 2\n",
    "    return round(area, 1)\n",
    "\n",
    "# Test cases\n",
    "print(area_of_hexagon(1))  # Output: 2.6\n",
    "print(area_of_hexagon(2))  # Output: 10.4\n",
    "print(area_of_hexagon(3))  # Output: 23.4"
   ]
  },
  {
   "cell_type": "code",
   "execution_count": null,
   "id": "67e7d1b4",
   "metadata": {},
   "outputs": [],
   "source": []
  }
 ],
 "metadata": {
  "kernelspec": {
   "display_name": "Python 3 (ipykernel)",
   "language": "python",
   "name": "python3"
  },
  "language_info": {
   "codemirror_mode": {
    "name": "ipython",
    "version": 3
   },
   "file_extension": ".py",
   "mimetype": "text/x-python",
   "name": "python",
   "nbconvert_exporter": "python",
   "pygments_lexer": "ipython3",
   "version": "3.8.16"
  }
 },
 "nbformat": 4,
 "nbformat_minor": 5
}
