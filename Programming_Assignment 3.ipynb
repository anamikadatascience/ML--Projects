{
 "cells": [
  {
   "cell_type": "markdown",
   "id": "5a4c4fd5",
   "metadata": {},
   "source": [
    "1.\tWrite a Python Program to Check if a Number is Positive, Negative or Zero?"
   ]
  },
  {
   "cell_type": "code",
   "execution_count": 1,
   "id": "4622fd51",
   "metadata": {},
   "outputs": [],
   "source": [
    "def check_num(num):\n",
    "    if num > 0:\n",
    "        return \"positive num\"\n",
    "    elif num < 0:\n",
    "        return \"negative num\"\n",
    "    else:\n",
    "        return \"zero\""
   ]
  },
  {
   "cell_type": "markdown",
   "id": "ab1e0df0",
   "metadata": {},
   "source": [
    "2.\tWrite a Python Program to Check if a Number is Odd or Even?"
   ]
  },
  {
   "cell_type": "code",
   "execution_count": 2,
   "id": "a20877aa",
   "metadata": {},
   "outputs": [],
   "source": [
    "def check_odd_even(num):\n",
    "    if num % 2 == 0:\n",
    "        return \"even\"\n",
    "    else:\n",
    "        return \"odd\""
   ]
  },
  {
   "cell_type": "markdown",
   "id": "b24370d7",
   "metadata": {},
   "source": [
    "3.\tWrite a Python Program to Check Leap Year?"
   ]
  },
  {
   "cell_type": "code",
   "execution_count": 9,
   "id": "e1641927",
   "metadata": {},
   "outputs": [],
   "source": [
    "def  if_leap_year(year):\n",
    "    if year % 4 == 0:\n",
    "        return \"leap year\""
   ]
  },
  {
   "cell_type": "markdown",
   "id": "10902623",
   "metadata": {},
   "source": [
    "4.\tWrite a Python Program to Check Prime Number?"
   ]
  },
  {
   "cell_type": "code",
   "execution_count": null,
   "id": "9379fe46",
   "metadata": {},
   "outputs": [],
   "source": [
    "def is_prime(num):\n",
    "    if num <= 1:\n",
    "        return False\n",
    "    \n",
    "     for divisor in range(2, int(number**0.5) + 1):\n",
    "        if number % divisor == 0:\n",
    "            return False\n",
    "\n",
    "    return True"
   ]
  },
  {
   "cell_type": "markdown",
   "id": "665616df",
   "metadata": {},
   "source": [
    "5.\tWrite a Python Program to Print all Prime Numbers in an Interval of 1-10000"
   ]
  },
  {
   "cell_type": "code",
   "execution_count": null,
   "id": "626075c8",
   "metadata": {},
   "outputs": [],
   "source": [
    "def sieve_of_eratosthenes(limit):\n",
    "    sieve = [True] * (limit + 1)\n",
    "    sieve[0] = sieve[1] = False\n",
    "\n",
    "    for num in range(2, int(limit**0.5) + 1):\n",
    "        if sieve[num]:\n",
    "            for multiple in range(num * num, limit + 1, num):\n",
    "                sieve[multiple] = False"
   ]
  },
  {
   "cell_type": "code",
   "execution_count": null,
   "id": "a15d8c3e",
   "metadata": {},
   "outputs": [],
   "source": []
  }
 ],
 "metadata": {
  "kernelspec": {
   "display_name": "Python 3 (ipykernel)",
   "language": "python",
   "name": "python3"
  },
  "language_info": {
   "codemirror_mode": {
    "name": "ipython",
    "version": 3
   },
   "file_extension": ".py",
   "mimetype": "text/x-python",
   "name": "python",
   "nbconvert_exporter": "python",
   "pygments_lexer": "ipython3",
   "version": "3.8.16"
  }
 },
 "nbformat": 4,
 "nbformat_minor": 5
}
