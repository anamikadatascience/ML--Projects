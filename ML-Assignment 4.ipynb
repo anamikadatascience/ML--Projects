{
 "cells": [
  {
   "cell_type": "markdown",
   "id": "29ff1ffd",
   "metadata": {},
   "source": [
    "1. What are the key tasks involved in getting ready to work with machine learning modeling?"
   ]
  },
  {
   "cell_type": "markdown",
   "id": "b83a4043",
   "metadata": {},
   "source": [
    "Ans: Preparing to work with machine learning modeling involves a series of key tasks that set the foundation for a successful project. Here are the essential tasks you need to address before diving into the modeling process:\n",
    "\n",
    "1.problem defination and goal setting\n",
    "2.data collection and understanding\n",
    "3. data processing \n",
    "4.feature engineering\n",
    "5.data splitting\n"
   ]
  },
  {
   "cell_type": "markdown",
   "id": "9d67b943",
   "metadata": {},
   "source": [
    "2. What are the different forms of data used in machine learning? Give a specific example for each of them."
   ]
  },
  {
   "cell_type": "markdown",
   "id": "99fdb3a6",
   "metadata": {},
   "source": [
    "Ans: \n",
    "    1. Numerical Data (Continuous):\n",
    "Numerical data consists of continuous numeric values that can take any real value within a certain range. This type of data is common in regression tasks.\n",
    "\n",
    "Example: House Price Prediction\n",
    "\n",
    "2. Categorical Data:\n",
    "Categorical data represents discrete categories or labels that don't have a natural numerical order. This type of data is prevalent in classification tasks.\n",
    "\n",
    "Example: Species Classification\n",
    "\n",
    "3. Ordinal Data:\n",
    "Ordinal data is similar to categorical data but includes an inherent order among categories. However, the differences between categories might not be uniform or well-defined.\n",
    "\n",
    "Example: Education Level"
   ]
  },
  {
   "cell_type": "markdown",
   "id": "f852e91d",
   "metadata": {},
   "source": [
    "3. Distinguish:\n",
    "\n",
    "           1. Numeric vs. categorical attributes\n",
    "\n",
    "            2. Feature selection vs. dimensionality reducti\n"
   ]
  },
  {
   "cell_type": "markdown",
   "id": "e4692bc9",
   "metadata": {},
   "source": [
    "Ans:1. Numeric vs. Categorical Attributes:\n",
    "\n",
    "    Numeric Attributes:\n",
    "Numeric attributes are those that represent continuous or discrete numerical values. These values can be used for mathematical calculations and comparisons. Numeric attributes can be further categorized into:\n",
    "\n",
    "Continuous: Attributes with a range of possible values (e.g., height, temperature).\n",
    "Discrete: Attributes with distinct, separate values (e.g., number of siblings, age in years).\n",
    "\n",
    "    Categorical Attributes:\n",
    "Categorical attributes are those that represent discrete, non-numeric values that belong to distinct categories. These values are used for classification and grouping, but mathematical operations like addition or subtraction are not meaningful for categorical attributes. Categorical attributes can be further categorized into:\n",
    "\n"
   ]
  },
  {
   "cell_type": "markdown",
   "id": "c23c7443",
   "metadata": {},
   "source": [
    "4. Make quick notes on any two of the following:\n",
    "\n",
    "            1. The histogram\n",
    "\n",
    "             2. Use a scatter plot\n",
    "\n",
    "              3.PCA (Personal Computer Aid)\n"
   ]
  },
  {
   "cell_type": "markdown",
   "id": "34c84389",
   "metadata": {},
   "source": [
    "Ans: 1. Histogram:\n",
    "\n",
    "A histogram is a graphical representation of the distribution of a dataset.\n",
    "It consists of vertical bars or bins, where each bar represents a range of values (bin).\n",
    "The horizontal axis represents the value ranges, and the vertical axis shows the frequency or count of data points falling within each bin.\n",
    "Histograms are useful for understanding the distribution of data, identifying patterns, and detecting outliers.\n",
    "\n",
    "\n",
    "2. Scatter Plot:\n",
    "\n",
    "A scatter plot is a type of graph that displays individual data points as dots on a two-dimensional plane.\n",
    "It's used to visualize the relationship between two continuous variables.\n",
    "Each dot represents a data point with its values plotted along the x and y axes.\n",
    "Scatter plots help identify trends, patterns, correlations, clusters, and outliers in the data."
   ]
  },
  {
   "cell_type": "markdown",
   "id": "36fd7a04",
   "metadata": {},
   "source": [
    "5. Why is it necessary to investigate data? Is there a discrepancy in how qualitative and quantitative data are explored?"
   ]
  },
  {
   "cell_type": "markdown",
   "id": "997c18cf",
   "metadata": {},
   "source": [
    "Ans: Investigating data is crucial in the field of data analysis and machine learning because it provides valuable insights into the characteristics, patterns, and potential issues within the dataset. The primary reasons for investigating data include:\n",
    "\n",
    "1.understanding data quality\n",
    "2.feature selection\n",
    "3.pattern identification\n",
    "4.detecting anomaalise\n"
   ]
  },
  {
   "cell_type": "markdown",
   "id": "be7990bd",
   "metadata": {},
   "source": [
    "6. What are the various histogram shapes? What exactly are ‘bins'?"
   ]
  },
  {
   "cell_type": "markdown",
   "id": "19aa0b5f",
   "metadata": {},
   "source": [
    "Ans: Histograms are graphical representations of the distribution of data, and their shapes can provide insights into the underlying characteristics of the data. There are several common histogram shapes:\n",
    "\n",
    "1.normal distribution\n",
    "2.skewed right \n",
    "3.skewed left\n",
    "4.binominal\n",
    "\n",
    "Bins:\n",
    "in a histogram are intervals that divide the range of data values into discrete segments. Each bin represents a range of values, and the height of the bar above a bin represents the frequency or count of data points that fall within that range. The width of each bin determines the range it covers."
   ]
  },
  {
   "cell_type": "markdown",
   "id": "ff06afcc",
   "metadata": {},
   "source": [
    "7. How do we deal with data outliers?"
   ]
  },
  {
   "cell_type": "markdown",
   "id": "19f019f5",
   "metadata": {},
   "source": [
    "Ans: Dealing with data outliers is an important step in data preprocessing to ensure that outliers don't unduly influence analysis or modeling results. Outliers are data points that significantly deviate from the rest of the data and can arise due to errors, variability, or genuine extreme observations. Here are several approaches to handling data outliers:\n",
    "\n",
    "    1. identify and understanding outliers\n",
    "    2.remove outliers\n",
    "    3.transfer data\n",
    "    4.winsorization\n",
    "    5.imputation\n",
    "    "
   ]
  },
  {
   "cell_type": "markdown",
   "id": "82a09f56",
   "metadata": {},
   "source": [
    "8. What are the various central inclination measures? Why does mean vary too much from median in certain data sets?"
   ]
  },
  {
   "cell_type": "markdown",
   "id": "fe8ac9dc",
   "metadata": {},
   "source": [
    "Ans: Central tendency measures are used to describe the central or typical value around which a dataset is distributed. They provide insights into the \"average\" value of the data. The three main central tendency measures are the mean, median, and mode:\n",
    "\n",
    "Mean:\n",
    "\n",
    "The mean is the arithmetic average of all values in a dataset.\n",
    "It's calculated by summing up all values and dividing by the number of values.\n",
    "The mean can be sensitive to extreme values (outliers) because it considers all values equally.\n",
    "\n",
    "\n",
    "Median:\n",
    "\n",
    "The median is the middle value in a sorted dataset.\n",
    "If the dataset has an odd number of values, the median is the middle value.\n",
    "If the dataset has an even number of values, the median is the average of the two middle values."
   ]
  },
  {
   "cell_type": "markdown",
   "id": "c1ac1659",
   "metadata": {},
   "source": [
    "9. Describe how a scatter plot can be used to investigate bivariate relationships. Is it possible to find outliers using a scatter plot?"
   ]
  },
  {
   "cell_type": "markdown",
   "id": "0e1c5ade",
   "metadata": {},
   "source": [
    "Ans: Interpreting a Scatter Plot for Bivariate Relationships:\n",
    "\n",
    "Positive Correlation: If the points generally form an upward-sloping pattern from left to right, it indicates a positive correlation between the variables. As one variable increases, the other tends to increase as well.\n",
    "\n",
    "Negative Correlation: If the points form a downward-sloping pattern from left to right, it indicates a negative correlation between the variables. As one variable increases, the other tends to decrease.\n",
    "\n",
    "No Correlation: If the points are scattered randomly without a clear trend, there might be little to no correlation between the variables.\n",
    "\n",
    "Strength of Correlation: The closeness of the points to a trend line indicates the strength of the correlation. Points that cluster closely to the trend line suggest a strong correlation, while more dispersed points suggest a weaker correlation.\n",
    "\n",
    "Identifying Outliers Using Scatter Plots:\n",
    "Yes, scatter plots can help identify outliers in bivariate data. Outliers are data points that significantly deviate from the general pattern of the other data points. In a scatter plot:\n",
    "\n",
    "Outliers in x-direction: Data points that are far from the main cluster along the x-axis are outliers in the x-direction.\n",
    "Outliers in y-direction: Data points that are far from the main cluster along the y-axis are outliers in the y-direction.\n",
    "Outliers in Both Directions: Outliers that deviate in both x and y directions are potential influential outliers that can impact the overall relationship.\n",
    "Outliers in a scatter plot might be due to measurement errors, data entry mistakes, or genuinely extreme observations. They can provide valuable insights into the data and the relationships between variables, but it's essential to assess whether they are meaningful or need to be addressed in data preprocessing.\n",
    "\n",
    "In summary, scatter plots are a powerful visualization tool for investigating bivariate relationships, identifying correlations, trends, and potential outliers. They provide an intuitive way to understand how two variables interact and whether there's a relationship between them.\n",
    "\n",
    "\n",
    "\n",
    "\n",
    "\n"
   ]
  },
  {
   "cell_type": "markdown",
   "id": "59c96d11",
   "metadata": {},
   "source": [
    "10. Describe how cross-tabs can be used to figure out how two variables are related.\n",
    "\n"
   ]
  },
  {
   "cell_type": "markdown",
   "id": "ce767a75",
   "metadata": {},
   "source": [
    "Ans: Creating a Cross-Tab:\n",
    "\n",
    "Choose Variables: Select two categorical variables that you want to analyze for their relationship.\n",
    "\n",
    "Table Creation: Create a two-dimensional table where the rows represent the categories of one variable (let's call it Variable A) and the columns represent the categories of the other variable (Variable B).\n",
    "\n",
    "Frequency Count: Populate the table cells with the count or frequency of data points that belong to each combination of categories of Variable A and Variable B.\n",
    "\n",
    "Interpreting a Cross-Tab:\n",
    "\n",
    "Diagonal Cells: The cells along the main diagonal (where Variable A category matches Variable B category) contain the count of data points where both variables have the same category. These counts are often referred to as \"marginals.\"\n",
    "\n",
    "Off-Diagonal Cells: The cells outside the main diagonal contain the counts of data points where the two variables have different categories. These cells show how the two variables are related or associated.\n",
    "\n",
    "Observations: Look for patterns in the table, such as which combinations of categories occur frequently or rarely."
   ]
  }
 ],
 "metadata": {
  "kernelspec": {
   "display_name": "Python 3 (ipykernel)",
   "language": "python",
   "name": "python3"
  },
  "language_info": {
   "codemirror_mode": {
    "name": "ipython",
    "version": 3
   },
   "file_extension": ".py",
   "mimetype": "text/x-python",
   "name": "python",
   "nbconvert_exporter": "python",
   "pygments_lexer": "ipython3",
   "version": "3.8.16"
  }
 },
 "nbformat": 4,
 "nbformat_minor": 5
}
