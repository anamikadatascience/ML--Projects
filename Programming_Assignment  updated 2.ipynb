{
 "cells": [
  {
   "cell_type": "markdown",
   "id": "94e3aea6",
   "metadata": {},
   "source": [
    "1.\tWrite a Python program to convert kilometers to miles?"
   ]
  },
  {
   "cell_type": "code",
   "execution_count": 2,
   "id": "a80f2bd2",
   "metadata": {},
   "outputs": [
    {
     "name": "stdout",
     "output_type": "stream",
     "text": [
      "10 kilometers is equal to 6.21371 miles.\n"
     ]
    }
   ],
   "source": [
    "kilometers_to_miles_2 = lambda km: km * 0.621371\n",
    "\n",
    "kilometers = 10\n",
    "miles = kilometers_to_miles_2(kilometers)\n",
    "print(f\"{kilometers} kilometers is equal to {miles} miles.\")"
   ]
  },
  {
   "cell_type": "markdown",
   "id": "9e3d0b84",
   "metadata": {},
   "source": [
    "2.\tWrite a Python program to convert Celsius to Fahrenheit?"
   ]
  },
  {
   "cell_type": "code",
   "execution_count": 4,
   "id": "7a8feab1",
   "metadata": {},
   "outputs": [
    {
     "name": "stdout",
     "output_type": "stream",
     "text": [
      "25°C is equal to 77.0°F.\n"
     ]
    }
   ],
   "source": [
    "celsius_to_fahrenheit_2 = lambda c: (c * 9/5) + 32\n",
    "\n",
    "celsius_temp = 25\n",
    "fahrenheit_temp = celsius_to_fahrenheit_2(celsius_temp)\n",
    "print(f\"{celsius_temp}°C is equal to {fahrenheit_temp}°F.\")"
   ]
  },
  {
   "cell_type": "markdown",
   "id": "df864619",
   "metadata": {},
   "source": [
    "3.\tWrite a Python program to display calendar?\n"
   ]
  },
  {
   "cell_type": "code",
   "execution_count": 5,
   "id": "a63bb2e3",
   "metadata": {},
   "outputs": [
    {
     "name": "stdout",
     "output_type": "stream",
     "text": [
      "Calendar:\n",
      "    August 2023\n",
      "Mo Tu We Th Fr Sa Su\n",
      "    1  2  3  4  5  6\n",
      " 7  8  9 10 11 12 13\n",
      "14 15 16 17 18 19 20\n",
      "21 22 23 24 25 26 27\n",
      "28 29 30 31\n",
      "\n"
     ]
    }
   ],
   "source": [
    "import calendar\n",
    "\n",
    "def display_calendar_1(year, month):\n",
    "    cal = calendar.month(year, month)\n",
    "    print(\"Calendar:\")\n",
    "    print(cal)\n",
    "\n",
    "year = 2023\n",
    "month = 8\n",
    "display_calendar_1(year, month)"
   ]
  },
  {
   "cell_type": "markdown",
   "id": "97fa8c12",
   "metadata": {},
   "source": [
    "4.\tWrite a Python program to solve quadratic equation?"
   ]
  },
  {
   "cell_type": "code",
   "execution_count": 7,
   "id": "fba6b7d4",
   "metadata": {},
   "outputs": [
    {
     "name": "stdout",
     "output_type": "stream",
     "text": [
      "Root 1: 2.0\n",
      "Root 2: 1.0\n"
     ]
    }
   ],
   "source": [
    "import math\n",
    "\n",
    "class QuadraticEquationSolver:\n",
    "    @staticmethod\n",
    "    def solve_quadratic_equation_3(a, b, c):\n",
    "        discriminant = b**2 - 4*a*c\n",
    "        if discriminant > 0:\n",
    "            root1 = (-b + math.sqrt(discriminant)) / (2*a)\n",
    "            root2 = (-b - math.sqrt(discriminant)) / (2*a)\n",
    "            return root1, root2\n",
    "        elif discriminant == 0:\n",
    "            root = -b / (2*a)\n",
    "            return root, root\n",
    "        else:\n",
    "            return None, None\n",
    "\n",
    "a = 1\n",
    "b = -3\n",
    "c = 2\n",
    "solver = QuadraticEquationSolver()\n",
    "root1, root2 = solver.solve_quadratic_equation_3(a, b, c)\n",
    "print(\"Root 1:\", root1)\n",
    "print(\"Root 2:\", root2)\n"
   ]
  },
  {
   "cell_type": "markdown",
   "id": "76db97f3",
   "metadata": {},
   "source": [
    "5.\tWrite a Python program to swap two variables without temp variable?"
   ]
  },
  {
   "cell_type": "code",
   "execution_count": 9,
   "id": "09d7fa8a",
   "metadata": {},
   "outputs": [
    {
     "name": "stdout",
     "output_type": "stream",
     "text": [
      "After swapping - x: 10 y: 5\n"
     ]
    }
   ],
   "source": [
    "def swap_variables_1(a, b):\n",
    "    a = a + b\n",
    "    b = a - b\n",
    "    a = a - b\n",
    "    return a, b\n",
    "\n",
    "x = 5\n",
    "y = 10\n",
    "x, y = swap_variables_1(x, y)\n",
    "print(\"After swapping - x:\", x, \"y:\", y)"
   ]
  },
  {
   "cell_type": "code",
   "execution_count": null,
   "id": "ba853e77",
   "metadata": {},
   "outputs": [],
   "source": []
  }
 ],
 "metadata": {
  "kernelspec": {
   "display_name": "Python 3 (ipykernel)",
   "language": "python",
   "name": "python3"
  },
  "language_info": {
   "codemirror_mode": {
    "name": "ipython",
    "version": 3
   },
   "file_extension": ".py",
   "mimetype": "text/x-python",
   "name": "python",
   "nbconvert_exporter": "python",
   "pygments_lexer": "ipython3",
   "version": "3.8.16"
  }
 },
 "nbformat": 4,
 "nbformat_minor": 5
}
