{
 "cells": [
  {
   "cell_type": "markdown",
   "id": "90d6492c",
   "metadata": {},
   "source": [
    "Question1\n",
    "Create a function that takes a string and returns a string in which each character is repeated once.\n",
    "Examples\n",
    "double_char(\"String\") ➞ \"SSttrriinngg\"\n",
    "\n",
    "double_char(\"Hello World!\") ➞ \"HHeelllloo  WWoorrlldd!!\"\n",
    "\n",
    "double_char(\"1234!_ \") ➞ \"11223344!!__  \"\n"
   ]
  },
  {
   "cell_type": "code",
   "execution_count": 1,
   "id": "632478ca",
   "metadata": {},
   "outputs": [
    {
     "name": "stdout",
     "output_type": "stream",
     "text": [
      "SSttrriinngg\n",
      "HHeelllloo  WWoorrlldd!!\n",
      "11223344!!__  \n"
     ]
    }
   ],
   "source": [
    "def double_char(input_str):\n",
    "    result = \"\"\n",
    "    for char in input_str:\n",
    "        result += char * 2\n",
    "    return result\n",
    "\n",
    "# Test cases\n",
    "print(double_char(\"String\"))      # Output: \"SSttrriinngg\"\n",
    "print(double_char(\"Hello World!\"))# Output: \"HHeelllloo  WWoorrlldd!!\"\n",
    "print(double_char(\"1234!_ \"))    # Output: \"11223344!!__  \""
   ]
  },
  {
   "cell_type": "markdown",
   "id": "c84c390f",
   "metadata": {},
   "source": [
    "Question2\n",
    "Create a function that reverses a boolean value and returns the string \"boolean expected\" if another variable type is given.\n",
    "Examples\n",
    "reverse(True) ➞ False\n",
    "\n",
    "reverse(False) ➞ True\n",
    "\n",
    "reverse(0) ➞ \"boolean expected\"\n",
    "\n",
    "reverse(None) ➞ \"boolean expected\"\n",
    "\n"
   ]
  },
  {
   "cell_type": "code",
   "execution_count": 2,
   "id": "37fbe7ea",
   "metadata": {},
   "outputs": [
    {
     "name": "stdout",
     "output_type": "stream",
     "text": [
      "False\n",
      "True\n",
      "boolean expected\n",
      "boolean expected\n"
     ]
    }
   ],
   "source": [
    "def reverse(boolean_value):\n",
    "    if isinstance(boolean_value, bool):\n",
    "        return not boolean_value\n",
    "    else:\n",
    "        return \"boolean expected\"\n",
    "\n",
    "# Test cases\n",
    "print(reverse(True))    # Output: False\n",
    "print(reverse(False))   # Output: True\n",
    "print(reverse(0))       # Output: \"boolean expected\"\n",
    "print(reverse(None))    # Output: \"boolean expected\""
   ]
  },
  {
   "cell_type": "markdown",
   "id": "294f01b9",
   "metadata": {},
   "source": [
    "Question3\n",
    "Create a function that returns the thickness (in meters) of a piece of paper after folding it n number of times. The paper starts off with a thickness of 0.5mm.\n",
    "Examples\n",
    "num_layers(1) ➞ \"0.001m\"\n",
    "# Paper folded once is 1mm (equal to 0.001m)\n",
    "\n",
    "num_layers(4) ➞ \"0.008m\"\n",
    "# Paper folded 4 times is 8mm (equal to 0.008m)\n",
    "\n",
    "num_layers(21) ➞ \"1048.576m\"\n",
    "# Paper folded 21 times is 1048576mm (equal to 1048.576m)\n",
    "\n",
    "\n"
   ]
  },
  {
   "cell_type": "code",
   "execution_count": 4,
   "id": "ecd6d73e",
   "metadata": {},
   "outputs": [
    {
     "name": "stdout",
     "output_type": "stream",
     "text": [
      "0.001m\n",
      "0.008m\n",
      "1048.576m\n"
     ]
    }
   ],
   "source": [
    "def num_layers(n):\n",
    "    thickness_mm = 0.5 * (2 ** n)\n",
    "    thickness_m = thickness_mm / 1000\n",
    "    return \"{:.3f}m\".format(thickness_m)\n",
    "\n",
    "# Test cases\n",
    "print(num_layers(1))   # Output: \"0.001m\"\n",
    "print(num_layers(4))   # Output: \"0.008m\"\n",
    "print(num_layers(21))  # Output: \"1048.576m\""
   ]
  },
  {
   "cell_type": "markdown",
   "id": "6de849fb",
   "metadata": {},
   "source": [
    "Question4\n",
    "Create a function that takes a single string as argument and returns an ordered list containing the indices of all capital letters in the string.\n",
    "Examples\n",
    "index_of_caps(\"eDaBiT\") ➞ [1, 3, 5]\n",
    "\n",
    "index_of_caps(\"eQuINoX\") ➞ [1, 3, 4, 6]\n",
    "\n",
    "index_of_caps(\"determine\") ➞ []\n",
    "\n",
    "index_of_caps(\"STRIKE\") ➞ [0, 1, 2, 3, 4, 5]\n",
    "\n",
    "index_of_caps(\"sUn\") ➞ [1]\n",
    "\n"
   ]
  },
  {
   "cell_type": "code",
   "execution_count": 5,
   "id": "07603549",
   "metadata": {},
   "outputs": [
    {
     "name": "stdout",
     "output_type": "stream",
     "text": [
      "[1, 3, 5]\n",
      "[1, 3, 4, 6]\n",
      "[]\n",
      "[0, 1, 2, 3, 4, 5]\n",
      "[1]\n"
     ]
    }
   ],
   "source": [
    "def index_of_caps(input_str):\n",
    "    indices = [index for index, char in enumerate(input_str) if char.isupper()]\n",
    "    return indices\n",
    "\n",
    "# Test cases\n",
    "print(index_of_caps(\"eDaBiT\"))     # Output: [1, 3, 5]\n",
    "print(index_of_caps(\"eQuINoX\"))    # Output: [1, 3, 4, 6]\n",
    "print(index_of_caps(\"determine\"))  # Output: []\n",
    "print(index_of_caps(\"STRIKE\"))     # Output: [0, 1, 2, 3, 4, 5]\n",
    "print(index_of_caps(\"sUn\"))        # Output: [1]"
   ]
  },
  {
   "cell_type": "code",
   "execution_count": null,
   "id": "2a81e420",
   "metadata": {},
   "outputs": [],
   "source": [
    "Question5\n",
    "Using list comprehensions, create a function that finds all even numbers from 1 to the given number.\n",
    "Examples\n",
    "find_even_nums(8) ➞ [2, 4, 6, 8]\n",
    "\n",
    "find_even_nums(4) ➞ [2, 4]\n",
    "\n",
    "find_even_nums(2) ➞ [2]\n",
    "\n",
    "\n"
   ]
  },
  {
   "cell_type": "code",
   "execution_count": 6,
   "id": "d1942e39",
   "metadata": {},
   "outputs": [
    {
     "name": "stdout",
     "output_type": "stream",
     "text": [
      "[2, 4, 6, 8]\n",
      "[2, 4]\n",
      "[2]\n"
     ]
    }
   ],
   "source": [
    "def find_even_nums(n):\n",
    "    even_nums = [num for num in range(1, n+1) if num % 2 == 0]\n",
    "    return even_nums\n",
    "\n",
    "# Test cases\n",
    "print(find_even_nums(8))  # Output: [2, 4, 6, 8]\n",
    "print(find_even_nums(4))  # Output: [2, 4]\n",
    "print(find_even_nums(2))  # Output: [2]"
   ]
  },
  {
   "cell_type": "code",
   "execution_count": null,
   "id": "0f3511d2",
   "metadata": {},
   "outputs": [],
   "source": []
  }
 ],
 "metadata": {
  "kernelspec": {
   "display_name": "Python 3 (ipykernel)",
   "language": "python",
   "name": "python3"
  },
  "language_info": {
   "codemirror_mode": {
    "name": "ipython",
    "version": 3
   },
   "file_extension": ".py",
   "mimetype": "text/x-python",
   "name": "python",
   "nbconvert_exporter": "python",
   "pygments_lexer": "ipython3",
   "version": "3.8.16"
  }
 },
 "nbformat": 4,
 "nbformat_minor": 5
}
