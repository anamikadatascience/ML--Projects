{
 "cells": [
  {
   "cell_type": "markdown",
   "id": "c3885a01",
   "metadata": {},
   "source": [
    "1.\tGiven X be a discrete random variable with the following PMF\n",
    " \n",
    "                   1. Find the range RX of the random variable X.\n",
    "\n",
    "                   2. Find P(X ≤ 0.5)\n",
    "\n",
    "                   3. Find P(0.25<X<0.75)\n",
    "\n",
    "              4. P(X = 0.2|X<0.6)\n",
    "\n"
   ]
  },
  {
   "cell_type": "markdown",
   "id": "dbd39c38",
   "metadata": {},
   "source": [
    "Ans: \n",
    "\n",
    "1. The range of random variable X (RX) is the set of all possible values that X can take. In this case, it's {0.1, 0.2, 0.3, 0.4, 0.5, 0.6}.\n",
    "\n",
    "2. P(X ≤ 0.5) is the probability that X is less than or equal to 0.5. Summing the probabilities for 0.1, 0.2, 0.3, and 0.4 gives the answer: P(X ≤ 0.5) = 0.4 + 0.3 + 0.2 + 0.1 = 1.0.\n",
    "\n",
    "3. P(0.25 < X < 0.75) is the probability that X falls between 0.25 and 0.75. Summing the probabilities for 0.3 and 0.4 gives the answer: P(0.25 < X < 0.75) = 0.3 + 0.2 = 0.5.\n",
    "\n",
    "4. P(X = 0.2 | X < 0.6) is the conditional probability that X is equal to 0.2 given that X is less than 0.6. Since X can only take the value 0.2 in this case, and 0.2 is less than 0.6, the probability is 1.0."
   ]
  },
  {
   "cell_type": "markdown",
   "id": "8a363aa5",
   "metadata": {},
   "source": [
    "2. Two equal and fair dice are rolled, and we observed two numbers X and Y.\n",
    "\n",
    "         1. Find RX, RY, and the PMFs of X and Y.\n",
    "\n",
    "         2. Find P(X = 2,Y = 6).\n",
    "\n",
    "         3. Find P(X>3|Y = 2).\n",
    "\n",
    "         4. If Z = X + Y. Find the range and PMF of Z.\n",
    "\n",
    "         5. Find P(X = 4|Z = 8).\n",
    "\n"
   ]
  },
  {
   "cell_type": "markdown",
   "id": "24f0575c",
   "metadata": {},
   "source": [
    "Ans:\n",
    "\n",
    "For two fair dice:\n",
    "\n",
    "1. RX (range of X) = {1, 2, 3, 4, 5, 6}\n",
    "RY (range of Y) = {1, 2, 3, 4, 5, 6}\n",
    "PMFs of X and Y are uniform, meaning P(X = x) = P(Y = y) = 1/6 for all x and y in their respective ranges.\n",
    "2. P(X = 2, Y = 6) = P(X = 2) * P(Y = 6) = (1/6) * (1/6) = 1/36.\n",
    "\n",
    "3. P(X > 3 | Y = 2) = P(X > 3) because Y being 2 is independent of X. Since X can only be 4, 5, or 6, P(X > 3 | Y = 2) = 3/6 = 1/2.\n",
    "\n",
    "4. If Z = X + Y, the range of Z (RZ) is {2, 3, 4, 5, 6, 7, 8, 9, 10, 11, 12}. The PMF of Z depends on the combinations of X and Y that sum up to each value in the range.\n",
    "\n",
    "5. P(X = 4 | Z = 8) is the probability that X is 4 given that Z is 8. Since Z = X + Y, and if Y is 4, then X must be 4 as well. So, P(X = 4 | Z = 8) = 1."
   ]
  },
  {
   "cell_type": "markdown",
   "id": "5e9bf554",
   "metadata": {},
   "source": [
    "3. In an exam, there were 20 multiple-choice questions. Each question had 44 possible options. A student knew the answer to 10 questions, but the other 10 questions were unknown to him, and he chose answers randomly. If the student X's score is equal to the total number of correct answers, then find out the PMF of X. What is P(X>15)?\n",
    "\n",
    "\n"
   ]
  },
  {
   "cell_type": "markdown",
   "id": "50007b52",
   "metadata": {},
   "source": [
    "Ans: \n",
    "\n",
    "The PMF of X, the student's score, follows a binomial distribution since the student answers each question randomly and independently:\n",
    "\n",
    "P(X = k) = C(20, k) * (10/44)^k * (34/44)^(20 - k)\n",
    "\n",
    "Where C(n, k) is the binomial coefficient \"n choose k\".\n",
    "\n",
    "To find P(X > 15), you would sum up the probabilities of X being 16, 17, 18, 19, and 20:\n",
    "\n",
    "P(X > 15) = P(X = 16) + P(X = 17) + P(X = 18) + P(X = 19) + P(X = 20)\n",
    "\n",
    "These probabilities can be calculated using the PMF formula."
   ]
  },
  {
   "cell_type": "markdown",
   "id": "1faf2cbe",
   "metadata": {},
   "source": [
    "4. The number of students arriving at a college between a time interval is a Poisson random variable. On average, 10 students arrive per hour. Let Y be the number of students arriving from 10 am to 11:30 am. What is P(10<Y≤15)?"
   ]
  },
  {
   "cell_type": "markdown",
   "id": "1d3319e4",
   "metadata": {},
   "source": [
    "Ans: \n",
    "\n",
    "in this case, Y follows a Poisson distribution with an average rate of 10 students per hour.\n",
    "\n",
    "To find P(10 < Y ≤ 15) for the time interval from 10 am to 11:30 am (1.5 hours), you can use the Poisson probability mass function:\n",
    "\n",
    "P(10 < Y ≤ 15) = P(Y = 11) + P(Y = 12) + P(Y = 13) + P(Y = 14) + P(Y = 15)\n",
    "\n",
    "You would calculate each of these individual probabilities using the Poisson distribution formula with a rate parameter of 10 and the corresponding value of Y."
   ]
  },
  {
   "cell_type": "markdown",
   "id": "6685a227",
   "metadata": {},
   "source": [
    "5. Two independent random variables, X and Y,are given such that X~Poisson(α) and Y~Poisson(β). State a new random variable as Z = X + Y. Find out the PMF of Z."
   ]
  },
  {
   "cell_type": "markdown",
   "id": "ba34a386",
   "metadata": {},
   "source": [
    "Ans:\n",
    "    \n",
    "    \n",
    "   when add two independent Poisson random variables, the resulting random variable Z follows a Poisson distribution with a parameter equal to the sum of the parameters of X and Y.\n",
    "\n",
    "So, the PMF of Z is:\n",
    "\n",
    "P(Z = k) = (e^-(α+β)) * ((α+β)^k) / k!\n",
    "\n",
    "Where k is a non-negative integer and e is the base of the natural logarithm."
   ]
  },
  {
   "cell_type": "markdown",
   "id": "20d8eb76",
   "metadata": {},
   "source": [
    "6. There is a discrete random variable X with the pmf. \n",
    "\n",
    " \n",
    "If we define a new random variable Y = (X + 1)2 then\n",
    "\n",
    "                       1.\tFind the range of Y.\n",
    "\n",
    "                      2.\tFind the pmf of Y.\n",
    "\n",
    "2.Assuming X is a continuous random variable with PDF\n",
    "\n",
    "\n",
    " \n",
    "1.\tFind EX and Var(X).\n",
    "2.\tFind P(X ≥  ).\n",
    "2.\tIf X is a continuous random variable with pdf \n",
    " \n",
    "3.\tIf X~Uniform  and Y = sin(X), then find fY(y).\n",
    "4.\tIf X is a random variable with CDF \n",
    " \n",
    "1.\tWhat kind of random variable is X: discrete, continuous, or mixed?\n",
    "2.\tFind the PDF of X, fX(x).\n",
    "3.\tFind E(eX).\n",
    "4.\tFind P(X = 0|X≤0.5).\n",
    "5.\tThere are two random variables X and Y with joint PMF given in Table below\n",
    "1.\tFind P(X≤2, Y≤4).\n",
    "2.\tFind the marginal PMFs of X and Y.\n",
    "3.\tFind P(Y = 2|X = 1).\n",
    "4.\tAre X and Y independent? \n",
    " \n",
    "6.A box containing 40 white shirts and 60 black shirts. If we choose 10 shirts (without replacement) at random, find the joint PMF of X and Y, where X is the number of white shirts and Y is the number of black shirts.\n"
   ]
  },
  {
   "cell_type": "markdown",
   "id": "93dbb2a6",
   "metadata": {},
   "source": [
    "Ans:\n",
    "    \n",
    "    1. Given Y = (X + 1)^2:\n",
    "\n",
    "Range of Y is [1, ∞).\n",
    "PMF of Y can be found by transforming the PMF of X: P(Y = y) = P((X + 1)^2 = y) = P(X = √y - 1).\n",
    "2. Assuming X is a continuous random variable with PDF:\n",
    "\n",
    "Expected value (EX) of X is ∫(x * fX(x)) dx over the range of X. Variance (Var(X)) is ∫((x - EX)^2 * fX(x)) dx.\n",
    "P(X ≥ a) can be calculated by integrating fX(x) from a to infinity.\n",
    "3. If X ~ Uniform and Y = sin(X):\n",
    "\n",
    "To find fY(y), you need to use the transformation formula: fY(y) = fX(g^(-1)(y)) * |(dg^(-1)(y))/dy| where g^(-1) is the inverse function of sin.\n",
    "4. If X has a given CDF:\n",
    "\n",
    "X is a continuous random variable.\n",
    "Differentiate the CDF to find the PDF fX(x).\n",
    "E(e^X) involves integrating e^x * fX(x) dx.\n",
    "P(X = 0|X ≤ 0.5) is not defined for continuous random variables.\n",
    "5. Joint PMF of X and Y:\n",
    "\n",
    "P(X ≤ 2, Y ≤ 4) is the sum of joint PMFs where X ≤ 2 and Y ≤ 4.\n",
    "Marginal PMF of X is the sum of the joint PMFs for each value of X.\n",
    "P(Y = 2|X = 1) is the joint PMF at X = 1 and Y = 2 divided by the marginal PMF of X = 1.\n",
    "X and Y are independent if their joint PMF can be factored into the product of their marginal PMFs.\n",
    "6. Joint PMF of X and Y (sampling without replacement):\n",
    "The joint PMF will involve counting combinations of white and black shirts chosen without replacement.\n",
    "\n",
    "\n",
    "\n",
    "\n",
    "\n",
    "\n",
    "\n"
   ]
  },
  {
   "cell_type": "markdown",
   "id": "d8969514",
   "metadata": {},
   "source": [
    "7.If A and B are two jointly continuous random variables with joint PDF\n",
    " \n",
    "a.\tFind fX(a) and fY(b).\n",
    "\n",
    "b.\tAre A and B independent of each other?\n",
    "\n",
    "c.\tFind the conditional PDF of A given B = b, fA|B(a|b).\n",
    "\n",
    "d.\tFind E[A|B = b], for 0 ≤ y ≤ 1.\n",
    "\n",
    "e.\tFind Var(A|B = b), for 0 ≤ y ≤ 1.\n"
   ]
  },
  {
   "cell_type": "markdown",
   "id": "384c6ff4",
   "metadata": {},
   "source": [
    "Ans:\n",
    "    \n",
    "    a. Joint PDF:\n",
    "\n",
    "The joint PDF is given, but I'll assume you meant to provide it in the question, as it's missing.\n",
    "fX(a) can be found by integrating the joint PDF over all possible values of b: fX(a) = ∫ fA,B(a, b) db.\n",
    "fY(b) can be found by integrating the joint PDF over all possible values of a: fY(b) = ∫ fA,B(a, b) da.\n",
    "\n",
    "    b. Independence:\n",
    "\n",
    "A and B are independent if and only if fA,B(a, b) = fX(a) * fY(b) for all values of a and b.\n",
    "\n",
    "    c. Conditional PDF:\n",
    "\n",
    "The conditional PDF of A given B = b, fA|B(a|b), can be calculated as: fA|B(a|b) = fA,B(a, b) / fY(b).\n",
    "\n",
    "    d. Conditional Expectation:\n",
    "\n",
    "E[A|B = b] for 0 ≤ y ≤ 1 can be calculated by integrating a * fA|B(a|b) over all values of a.\n",
    "\n",
    "    e. Conditional Variance:\n",
    "\n",
    "Var(A|B = b) for 0 ≤ y ≤ 1 can be calculated as E[A^2|B = b] - (E[A|B = b])^2, where E[A^2|B = b] is found by integrating a^2 * fA|B(a|b) over all values of a.\n",
    "\n",
    "\n",
    "\n",
    "\n",
    "\n"
   ]
  },
  {
   "cell_type": "markdown",
   "id": "4045fde1",
   "metadata": {},
   "source": [
    "    8.There are 100 men on a ship. If Xi is the ith man's weight on the ship and Xi's are independent and identically distributed and EXi = μ = 170 and σXi = σ = 30. Find the probability that the men's total weight on the ship exceeds 18,000."
   ]
  },
  {
   "cell_type": "markdown",
   "id": "1261f853",
   "metadata": {},
   "source": [
    "Ans: \n",
    "    to find the probability that the men's total weight on the ship exceeds 18,000, you can use the Central Limit Theorem since you have a large number of independent and identically distributed variables (100 men). According to the Central Limit Theorem, the sum of a large number of independent random variables, even if not normally distributed, tends to follow a normal distribution.\n",
    "\n",
    "The sum of the weights of the men on the ship follows approximately a normal distribution with mean μ' = n * μ and standard deviation σ' = √(n) * σ, where n is the number of men.\n",
    "\n",
    "Given n = 100, μ = 170, σ = 30, you have μ' = 100 * 170 = 17000 and σ' = √(100) * 30 = 300.\n",
    "\n",
    "Now, you want to find the probability that the sum of the weights exceeds 18,000:\n",
    "\n",
    "P(X > 18000) = 1 - P(X ≤ 18000),\n",
    "\n",
    "where X follows a normal distribution with mean μ' and standard deviation σ'.\n",
    "\n",
    "Using standard normal distribution tables or a calculator, you can find the z-score for (18000 - μ') / σ', and then use the cumulative normal distribution function to find the probability.\n",
    "\n",
    "In short, using the Central Limit Theorem and normal distribution properties, you can calculate the probability that the men's total weight on the ship exceeds 18,000.\n",
    "\n",
    "\n",
    "\n",
    "\n",
    "\n"
   ]
  },
  {
   "cell_type": "markdown",
   "id": "4cc9a0eb",
   "metadata": {},
   "source": [
    "If Y = X1 + X2 + … + Xn, estimate P(4 ≤ Y ≤ 6) using central limit theorem. 9.Let X1, X2, ……, X25 are independent and identically distributed. And have the following PMF  \n",
    "\n"
   ]
  },
  {
   "cell_type": "markdown",
   "id": "5b5685d3",
   "metadata": {},
   "source": [
    "8. Estimating Probability using Central Limit Theorem:\n",
    "If Y = X1 + X2 + … + Xn follows a sum of independent and identically distributed random variables, you can use the Central Limit Theorem when n is large. Assuming n is sufficiently large, you can approximate the distribution of Y with a normal distribution.\n",
    "\n",
    "Estimate P(4 ≤ Y ≤ 6) by finding the z-scores for both values, applying the standard normal distribution cumulative function, and subtracting the two probabilities.\n",
    "\n",
    "9. Independent and Identically Distributed Random Variables with Given PMF:\n",
    "The information you provided about the PMF is missing. Please provide the PMF for X1, X2, ..., X25 to answer this question."
   ]
  }
 ],
 "metadata": {
  "kernelspec": {
   "display_name": "Python 3 (ipykernel)",
   "language": "python",
   "name": "python3"
  },
  "language_info": {
   "codemirror_mode": {
    "name": "ipython",
    "version": 3
   },
   "file_extension": ".py",
   "mimetype": "text/x-python",
   "name": "python",
   "nbconvert_exporter": "python",
   "pygments_lexer": "ipython3",
   "version": "3.8.16"
  }
 },
 "nbformat": 4,
 "nbformat_minor": 5
}
