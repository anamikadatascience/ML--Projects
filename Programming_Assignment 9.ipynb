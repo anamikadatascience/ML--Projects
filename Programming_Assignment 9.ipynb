{
 "cells": [
  {
   "cell_type": "markdown",
   "id": "8892a064",
   "metadata": {},
   "source": [
    "1.\tWrite a Python program to check if the given number is a Disarium Number?"
   ]
  },
  {
   "cell_type": "code",
   "execution_count": 2,
   "id": "577bf20d",
   "metadata": {},
   "outputs": [],
   "source": [
    "def is_disarium_number(num):\n",
    "    num_str = str(num)\n",
    "    sum_digits = sum(int(digit) ** (i + 1) for i, digit in enumerate(num_str))\n",
    "\n",
    "    return sum_digit == num"
   ]
  },
  {
   "cell_type": "markdown",
   "id": "66f7c747",
   "metadata": {},
   "source": [
    " 2.\tWrite a Python program to print all disarium numbers between 1 to 100?"
   ]
  },
  {
   "cell_type": "code",
   "execution_count": 3,
   "id": "eb16c4de",
   "metadata": {},
   "outputs": [],
   "source": [
    "def is_disarium_number(num):\n",
    "    num_str = str(num)\n",
    "    sum_digits = sum(int(digit) ** (i + 1) for i, digit in enumerate(num_str))\n",
    "    return sum_digits == num"
   ]
  },
  {
   "cell_type": "markdown",
   "id": "7d1bda1c",
   "metadata": {},
   "source": [
    "3.\tWrite a Python program to check if the given number is Happy Number?"
   ]
  },
  {
   "cell_type": "code",
   "execution_count": 4,
   "id": "00d0fd2f",
   "metadata": {},
   "outputs": [],
   "source": [
    "def square_of_digits_sum(num):\n",
    "    return sum(int(digit) ** 2 for digit in str(num))\n",
    "\n",
    "def is_happy_number(num):\n",
    "    slow = fast = num\n",
    "    while True:\n",
    "        slow = square_of_digits_sum(slow)\n",
    "        fast = square_of_digits_sum(square_of_digits_sum(fast))\n",
    "        if slow == fast:\n",
    "            break\n",
    "    return slow == 1"
   ]
  },
  {
   "cell_type": "markdown",
   "id": "f71a7615",
   "metadata": {},
   "source": [
    "4.\tWrite a Python program to print all happy numbers between 1 and 100?"
   ]
  },
  {
   "cell_type": "code",
   "execution_count": 5,
   "id": "2de54c54",
   "metadata": {},
   "outputs": [],
   "source": [
    "def square_of_digits_sum(num):\n",
    "    return sum(int(digit) ** 2 for digit in str(num))\n",
    "\n",
    "def is_happy_number(num):\n",
    "    slow = fast = num\n",
    "    while True:\n",
    "        slow = square_of_digits_sum(slow)\n",
    "        fast = square_of_digits_sum(square_of_digits_sum(fast))\n",
    "        if slow == fast:\n",
    "            break\n",
    "    return slow == 1"
   ]
  },
  {
   "cell_type": "markdown",
   "id": "11704ce4",
   "metadata": {},
   "source": [
    "5.\tWrite a Python program to determine whether the given number is a Harshad Number?"
   ]
  },
  {
   "cell_type": "code",
   "execution_count": 6,
   "id": "099c0a9a",
   "metadata": {},
   "outputs": [],
   "source": [
    "def sum_of_digits(num):\n",
    "    return sum(int(digit) for digit in str(num))\n",
    "\n",
    "def is_harshad_number(num):\n",
    "    return num % sum_of_digits(num) == 0"
   ]
  },
  {
   "cell_type": "markdown",
   "id": "9fbc2aba",
   "metadata": {},
   "source": [
    "6.\tWrite a Python program to print all pronic numbers between 1 and 100?"
   ]
  },
  {
   "cell_type": "code",
   "execution_count": 7,
   "id": "60df4db1",
   "metadata": {},
   "outputs": [
    {
     "name": "stdout",
     "output_type": "stream",
     "text": [
      "Pronic numbers between 1 and 100:\n",
      "2\n",
      "6\n",
      "12\n",
      "20\n",
      "30\n",
      "42\n",
      "56\n",
      "72\n",
      "90\n"
     ]
    }
   ],
   "source": [
    "def is_pronic_number(num):\n",
    "    for i in range(1, num):\n",
    "        if i * (i + 1) == num:\n",
    "            return True\n",
    "    return False\n",
    "\n",
    "if __name__ == \"__main__\":\n",
    "    print(\"Pronic numbers between 1 and 100:\")\n",
    "    for num in range(1, 101):\n",
    "        if is_pronic_number(num):\n",
    "            print(num)"
   ]
  },
  {
   "cell_type": "code",
   "execution_count": null,
   "id": "c3777ff6",
   "metadata": {},
   "outputs": [],
   "source": []
  }
 ],
 "metadata": {
  "kernelspec": {
   "display_name": "Python 3 (ipykernel)",
   "language": "python",
   "name": "python3"
  },
  "language_info": {
   "codemirror_mode": {
    "name": "ipython",
    "version": 3
   },
   "file_extension": ".py",
   "mimetype": "text/x-python",
   "name": "python",
   "nbconvert_exporter": "python",
   "pygments_lexer": "ipython3",
   "version": "3.8.16"
  }
 },
 "nbformat": 4,
 "nbformat_minor": 5
}
