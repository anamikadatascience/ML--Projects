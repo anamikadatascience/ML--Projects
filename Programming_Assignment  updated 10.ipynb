{
 "cells": [
  {
   "cell_type": "markdown",
   "id": "335af737",
   "metadata": {},
   "source": [
    "1.\tWrite a Python program to find sum of elements in list?"
   ]
  },
  {
   "cell_type": "code",
   "execution_count": 1,
   "id": "734c8cd2",
   "metadata": {},
   "outputs": [
    {
     "name": "stdout",
     "output_type": "stream",
     "text": [
      "Sum of elements in the list: 15\n"
     ]
    }
   ],
   "source": [
    "def sum_of_elements(input_list):\n",
    "    total_sum = sum(input_list)\n",
    "    return total_sum\n",
    "\n",
    "my_list = [1, 2, 3, 4, 5]\n",
    "result = sum_of_elements(my_list)\n",
    "print(\"Sum of elements in the list:\", result)"
   ]
  },
  {
   "cell_type": "markdown",
   "id": "6f037a5a",
   "metadata": {},
   "source": [
    "2.\tWrite a Python program to  Multiply all numbers in the list?"
   ]
  },
  {
   "cell_type": "code",
   "execution_count": 2,
   "id": "e4ef0d83",
   "metadata": {},
   "outputs": [
    {
     "name": "stdout",
     "output_type": "stream",
     "text": [
      "Product of all numbers in the list: 120\n"
     ]
    }
   ],
   "source": [
    "def multiply_all_numbers(input_list):\n",
    "    result = 1\n",
    "    for num in input_list:\n",
    "        result *= num\n",
    "    return result\n",
    "\n",
    "my_list = [2, 3, 4, 5]\n",
    "product = multiply_all_numbers(my_list)\n",
    "print(\"Product of all numbers in the list:\", product)"
   ]
  },
  {
   "cell_type": "markdown",
   "id": "4b8cc132",
   "metadata": {},
   "source": [
    "3.\tWrite a Python program to find smallest number in a list?"
   ]
  },
  {
   "cell_type": "code",
   "execution_count": 3,
   "id": "9b412b43",
   "metadata": {},
   "outputs": [
    {
     "name": "stdout",
     "output_type": "stream",
     "text": [
      "The smallest number in the list: 1\n"
     ]
    }
   ],
   "source": [
    "def find_smallest_number(input_list):\n",
    "    smallest = min(input_list)\n",
    "    return smallest\n",
    "\n",
    "my_list = [5, 2, 9, 1, 7]\n",
    "smallest_number = find_smallest_number(my_list)\n",
    "print(\"The smallest number in the list:\", smallest_number)"
   ]
  },
  {
   "cell_type": "markdown",
   "id": "0b4d3a61",
   "metadata": {},
   "source": [
    "4.\tWrite a Python program to find largest number in a list?"
   ]
  },
  {
   "cell_type": "code",
   "execution_count": 4,
   "id": "c6f45a17",
   "metadata": {},
   "outputs": [
    {
     "name": "stdout",
     "output_type": "stream",
     "text": [
      "The largest number in the list: 9\n"
     ]
    }
   ],
   "source": [
    "def find_largest_number(input_list):\n",
    "    largest = max(input_list)\n",
    "    return largest\n",
    "\n",
    "my_list = [5, 2, 9, 1, 7]\n",
    "largest_number = find_largest_number(my_list)\n",
    "print(\"The largest number in the list:\", largest_number)"
   ]
  },
  {
   "cell_type": "markdown",
   "id": "61b6a24b",
   "metadata": {},
   "source": [
    "5.\tWrite a Python program to find second largest number in a list?"
   ]
  },
  {
   "cell_type": "code",
   "execution_count": 6,
   "id": "626f8d8e",
   "metadata": {},
   "outputs": [
    {
     "name": "stdout",
     "output_type": "stream",
     "text": [
      "Second largest number (Method 1): 7\n"
     ]
    }
   ],
   "source": [
    "def find_second_largest_1(input_list):\n",
    "    sorted_list = sorted(input_list, reverse=True)\n",
    "    return sorted_list[1] if len(sorted_list) >= 2 else None\n",
    "\n",
    "my_list = [5, 2, 9, 1, 7]\n",
    "second_largest = find_second_largest_1(my_list)\n",
    "print(\"Second largest number (Method 1):\", second_largest)\n",
    "\n",
    "\n"
   ]
  },
  {
   "cell_type": "markdown",
   "id": "11a0aa77",
   "metadata": {},
   "source": [
    "6.\tWrite a Python program to find N largest elements from a list?"
   ]
  },
  {
   "cell_type": "code",
   "execution_count": 7,
   "id": "19352390",
   "metadata": {},
   "outputs": [
    {
     "name": "stdout",
     "output_type": "stream",
     "text": [
      "3 largest elements: [9, 8, 7]\n"
     ]
    }
   ],
   "source": [
    "def find_n_largest_elements(input_list, n):\n",
    "    sorted_list = sorted(input_list, reverse=True)\n",
    "    n_largest = sorted_list[:n]\n",
    "    return n_largest\n",
    "\n",
    "my_list = [5, 2, 9, 1, 7, 8, 3]\n",
    "n = 3\n",
    "\n",
    "n_largest_elements = find_n_largest_elements(my_list, n)\n",
    "print(f\"{n} largest elements:\", n_largest_elements)"
   ]
  },
  {
   "cell_type": "markdown",
   "id": "526d9a4b",
   "metadata": {},
   "source": [
    "7.\tWrite a Python program to print even numbers in a list?"
   ]
  },
  {
   "cell_type": "code",
   "execution_count": 7,
   "id": "70d21ea7",
   "metadata": {},
   "outputs": [
    {
     "name": "stdout",
     "output_type": "stream",
     "text": [
      "Even numbers in the list are: [2, 4, 6, 8, 10]\n"
     ]
    }
   ],
   "source": [
    "def print_even_numbers(input_list):\n",
    "    even_numbers = [num for num in input_list if num % 2 == 0]\n",
    "    return even_numbers\n",
    "\n",
    "# Example usage:\n",
    "if __name__ == \"__main__\":\n",
    "    my_list = [1, 2, 3, 4, 5, 6, 7, 8, 9, 10]\n",
    "    even_numbers = print_even_numbers(my_list)\n",
    "    print(\"Even numbers in the list are:\", even_numbers)"
   ]
  },
  {
   "cell_type": "markdown",
   "id": "edfb35ec",
   "metadata": {},
   "source": [
    "8.\tWrite a Python program to print odd numbers in a List?"
   ]
  },
  {
   "cell_type": "code",
   "execution_count": 8,
   "id": "f9841ba8",
   "metadata": {},
   "outputs": [
    {
     "name": "stdout",
     "output_type": "stream",
     "text": [
      "Odd numbers in the list are: [1, 3, 5, 7, 9]\n"
     ]
    }
   ],
   "source": [
    "def print_odd_numbers(input_list):\n",
    "    odd_numbers = [num for num in input_list if num % 2 != 0]\n",
    "    return odd_numbers\n",
    "\n",
    "# Example usage:\n",
    "if __name__ == \"__main__\":\n",
    "    my_list = [1, 2, 3, 4, 5, 6, 7, 8, 9, 10]\n",
    "    odd_numbers = print_odd_numbers(my_list)\n",
    "    print(\"Odd numbers in the list are:\", odd_numbers)"
   ]
  },
  {
   "cell_type": "markdown",
   "id": "849532e1",
   "metadata": {},
   "source": [
    "9.\tWrite a Python program to Remove empty List from List?"
   ]
  },
  {
   "cell_type": "code",
   "execution_count": 9,
   "id": "e0ef2f19",
   "metadata": {},
   "outputs": [
    {
     "name": "stdout",
     "output_type": "stream",
     "text": [
      "List after removing empty lists: [[5, 6], [7, 8, 9]]\n"
     ]
    }
   ],
   "source": [
    "def remove_empty_lists(input_list):\n",
    "    return [sublist for sublist in input_list if isinstance(sublist, list) and len(sublist) > 0]\n",
    "\n",
    "# Example usage:\n",
    "if __name__ == \"__main__\":\n",
    "    my_list = [1, 2, [], 3, [], 4, [5, 6], [], [7, 8, 9], []]\n",
    "    cleaned_list = remove_empty_lists(my_list)\n",
    "    print(\"List after removing empty lists:\", cleaned_list)"
   ]
  },
  {
   "cell_type": "markdown",
   "id": "edef544f",
   "metadata": {},
   "source": [
    "10.\tWrite a Python program to Cloning or Copying a list?"
   ]
  },
  {
   "cell_type": "code",
   "execution_count": 10,
   "id": "90ed00f6",
   "metadata": {},
   "outputs": [
    {
     "name": "stdout",
     "output_type": "stream",
     "text": [
      "Cloned list using slicing: [1, 2, 3, 4, 5]\n"
     ]
    }
   ],
   "source": [
    "def clone_list_using_slicing(input_list):\n",
    "    return input_list[:]\n",
    "\n",
    "# Example usage:\n",
    "if __name__ == \"__main__\":\n",
    "    my_list = [1, 2, 3, 4, 5]\n",
    "    cloned_list = clone_list_using_slicing(my_list)\n",
    "    print(\"Cloned list using slicing:\", cloned_list)"
   ]
  },
  {
   "cell_type": "markdown",
   "id": "0c740ad4",
   "metadata": {},
   "source": [
    "11.\tWrite a Python program to Count occurrences of an element in a list?"
   ]
  },
  {
   "cell_type": "code",
   "execution_count": 11,
   "id": "43a7669f",
   "metadata": {},
   "outputs": [
    {
     "name": "stdout",
     "output_type": "stream",
     "text": [
      "The element 2 appears 4 times in the list.\n"
     ]
    }
   ],
   "source": [
    "def count_occurrences(input_list, element):\n",
    "    return input_list.count(element)\n",
    "\n",
    "# Example usage:\n",
    "if __name__ == \"__main__\":\n",
    "    my_list = [1, 2, 3, 4, 2, 5, 2, 6, 2]\n",
    "    element_to_count = 2\n",
    "    occurrences = count_occurrences(my_list, element_to_count)\n",
    "    print(f\"The element {element_to_count} appears {occurrences} times in the list.\")"
   ]
  },
  {
   "cell_type": "code",
   "execution_count": null,
   "id": "558795d5",
   "metadata": {},
   "outputs": [],
   "source": []
  }
 ],
 "metadata": {
  "kernelspec": {
   "display_name": "Python 3 (ipykernel)",
   "language": "python",
   "name": "python3"
  },
  "language_info": {
   "codemirror_mode": {
    "name": "ipython",
    "version": 3
   },
   "file_extension": ".py",
   "mimetype": "text/x-python",
   "name": "python",
   "nbconvert_exporter": "python",
   "pygments_lexer": "ipython3",
   "version": "3.8.16"
  }
 },
 "nbformat": 4,
 "nbformat_minor": 5
}
