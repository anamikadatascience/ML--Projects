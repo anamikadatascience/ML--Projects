{
 "cells": [
  {
   "cell_type": "markdown",
   "id": "919a0059",
   "metadata": {},
   "source": [
    "Q1. What is the distinction between a numpy array and a pandas data frame? Is there a way to convert between the two if there is?\n",
    "\n"
   ]
  },
  {
   "cell_type": "markdown",
   "id": "e5a6da3e",
   "metadata": {},
   "source": [
    "Ans:\n",
    "    A numpy array is a homogeneous, multi-dimensional array that can hold numerical data, while a pandas DataFrame is a two-dimensional, heterogeneous data structure that can store data of different types, including numerical, textual, and categorical.\n",
    "\n",
    "Conversion:\n",
    "You can convert a pandas DataFrame to a numpy array using the .values attribute of the DataFrame. For example: numpy_array = dataframe.values.\n",
    "\n",
    "To convert a numpy array to a pandas DataFrame, you can use pd.DataFrame() constructor. For example: dataframe = pd.DataFrame(numpy_array).\n",
    "\n",
    "Keep in mind that when converting between the two, you might lose some features or structures specific to DataFrames, like column names and index labels."
   ]
  },
  {
   "cell_type": "markdown",
   "id": "66a25f95",
   "metadata": {},
   "source": [
    "Q2. What can go wrong when an user enters in a stock-ticker symbol, and how do you handle it?"
   ]
  },
  {
   "cell_type": "markdown",
   "id": "022b64dc",
   "metadata": {},
   "source": [
    "Ans:\n",
    "    Several things can go wrong when a user enters a stock ticker symbol, and handling these scenarios is crucial for a robust application:\n",
    "\n",
    "1.Invalid Ticker Symbol: Users might enter an incorrect or non-existent ticker symbol. You can handle this by validating the input against a known list of valid ticker symbols.\n",
    "\n",
    "2.Case Sensitivity: Ticker symbols might be case-sensitive. Ensure that the user input is correctly formatted, or convert it to the required case.\n",
    "\n",
    "3.Missing Input: Users might submit an empty or null input. Implement validation to ensure that a valid ticker symbol is provided.\n",
    "\n",
    "4.Special Characters: Ticker symbols usually consist of letters and numbers only. Validate and sanitize user input to prevent special characters or invalid characters.\n",
    "\n",
    "5.Network Errors: Fetching data related to the ticker symbol from an external source might result in network errors. Implement error handling and inform the user about connectivity issues."
   ]
  },
  {
   "cell_type": "markdown",
   "id": "0ce6a4eb",
   "metadata": {},
   "source": [
    "Q3. Identify some of the plotting techniques that are used to produce a stock-market chart."
   ]
  },
  {
   "cell_type": "markdown",
   "id": "9a53474d",
   "metadata": {},
   "source": [
    "Ans:\n",
    "    Several plotting techniques are used to produce stock market charts. Some common ones include:\n",
    "\n",
    "1.Line Chart: Displays the price movement of a stock over time using a continuous line, helping to visualize trends and fluctuations.\n",
    "\n",
    "2.Candlestick Chart: Represents price movement with candlestick shapes that show opening, closing, high, and low prices for a given time period.\n",
    "\n",
    "3.OHLC Chart: Similar to a candlestick chart, it shows Open, High, Low, and Close prices as vertical lines with horizontal ticks.\n",
    "\n",
    "4.Volume Chart: Illustrates trading volume over time, helping to understand the level of market activity for a specific stock.\n",
    "\n",
    "5.Moving Averages: Plots moving average lines (e.g., 50-day, 200-day) to smooth out price fluctuations and identify trends.\n",
    "\n",
    "6.Bollinger Bands: Combines a moving average with upper and lower bands representing standard deviations, indicating potential volatility."
   ]
  },
  {
   "cell_type": "markdown",
   "id": "0faee166",
   "metadata": {},
   "source": [
    "Q4. Why is it essential to print a legend on a stock market chart?\n",
    "\n",
    "\n"
   ]
  },
  {
   "cell_type": "markdown",
   "id": "a5ddeba2",
   "metadata": {},
   "source": [
    "Ans:\n",
    "    Printing a legend on a stock market chart is essential to provide context and clarity about the data being presented. It helps viewers understand the meaning of various elements on the chart, such as lines, shapes, and colors, and associate them with specific data series or indicators. This ensures that users can accurately interpret the information displayed, make informed decisions, and avoid confusion about the significance of different elements in the chart."
   ]
  },
  {
   "cell_type": "markdown",
   "id": "d93d6223",
   "metadata": {},
   "source": [
    "Q6. What is the definition of a 180-day moving average?\n",
    "\n"
   ]
  },
  {
   "cell_type": "markdown",
   "id": "72bc92db",
   "metadata": {},
   "source": [
    "Ans:\n",
    "    \n",
    "    A 180-day moving average is a calculation used in technical analysis to smooth out price data over a 180-day period. It involves adding up the closing prices of a financial instrument (e.g., a stock) over the past 180 trading days and then dividing by 180 to obtain an average value. This moving average is often used to identify long-term trends and reduce short-term fluctuations in price, helping traders and analysts make more informed decisions about the overall direction of the market."
   ]
  },
  {
   "cell_type": "code",
   "execution_count": null,
   "id": "120c9750",
   "metadata": {},
   "outputs": [],
   "source": [
    "\n",
    "    "
   ]
  }
 ],
 "metadata": {
  "kernelspec": {
   "display_name": "Python 3 (ipykernel)",
   "language": "python",
   "name": "python3"
  },
  "language_info": {
   "codemirror_mode": {
    "name": "ipython",
    "version": 3
   },
   "file_extension": ".py",
   "mimetype": "text/x-python",
   "name": "python",
   "nbconvert_exporter": "python",
   "pygments_lexer": "ipython3",
   "version": "3.8.16"
  }
 },
 "nbformat": 4,
 "nbformat_minor": 5
}
