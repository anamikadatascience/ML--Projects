{
 "cells": [
  {
   "cell_type": "markdown",
   "id": "1922dfc9",
   "metadata": {},
   "source": [
    "1. Add the current date to the text file today.txt as a string."
   ]
  },
  {
   "cell_type": "code",
   "execution_count": 1,
   "id": "56db86aa",
   "metadata": {},
   "outputs": [],
   "source": [
    "from datetime import date\n",
    "now = date.today()\n",
    "now_str = now.isoformat()\n",
    "with open('today.txt', 'wt') as output:\n",
    "    print(now_str, file=output)"
   ]
  },
  {
   "cell_type": "markdown",
   "id": "fed9c57e",
   "metadata": {},
   "source": [
    "2. Read the text file today.txt into the string today_string"
   ]
  },
  {
   "cell_type": "code",
   "execution_count": 2,
   "id": "50bdb8dd",
   "metadata": {},
   "outputs": [],
   "source": [
    "with open('today.txt', 'rt') as input:\n",
    "    today_string = input.read()\n",
    "    \n",
    "today_string"
   ]
  },
  {
   "cell_type": "markdown",
   "id": "c950aef9",
   "metadata": {},
   "source": [
    "3. Parse the date from today_string."
   ]
  },
  {
   "cell_type": "code",
   "execution_count": 3,
   "id": "4d82fb86",
   "metadata": {},
   "outputs": [],
   "source": [
    "from datetime import datetime\n",
    "fmt = '%Y-%m-%d\\n'\n",
    "datetime.strptime(today_string, fmt)"
   ]
  },
  {
   "cell_type": "markdown",
   "id": "fdfad31b",
   "metadata": {},
   "source": [
    "4. List the files in your current directory"
   ]
  },
  {
   "cell_type": "code",
   "execution_count": 4,
   "id": "4a26cbce",
   "metadata": {},
   "outputs": [],
   "source": [
    "import os\n",
    "os.listdir('.')"
   ]
  },
  {
   "cell_type": "markdown",
   "id": "dbf12dbd",
   "metadata": {},
   "source": [
    "5. Create a list of all of the files in your parent directory (minimum five files should be available)."
   ]
  },
  {
   "cell_type": "code",
   "execution_count": 5,
   "id": "c61df192",
   "metadata": {},
   "outputs": [],
   "source": [
    "os.listdir('..')"
   ]
  },
  {
   "cell_type": "markdown",
   "id": "e3b50ae0",
   "metadata": {},
   "source": [
    "6. Use multiprocessing to create three separate processes. Make each one wait a random number of seconds between one and five, print the current time, and then exit."
   ]
  },
  {
   "cell_type": "code",
   "execution_count": 6,
   "id": "5946b220",
   "metadata": {},
   "outputs": [],
   "source": [
    "!python multi_process.py"
   ]
  },
  {
   "cell_type": "markdown",
   "id": "fe842a19",
   "metadata": {},
   "source": [
    "7. Create a date object of your day of birth."
   ]
  },
  {
   "cell_type": "code",
   "execution_count": 7,
   "id": "126558cb",
   "metadata": {},
   "outputs": [],
   "source": [
    "my_day = date(1996, 8, 10)\n",
    "my_day"
   ]
  },
  {
   "cell_type": "markdown",
   "id": "6f8dbae2",
   "metadata": {},
   "source": [
    "8. What day of the week was your day of birth?"
   ]
  },
  {
   "cell_type": "code",
   "execution_count": 11,
   "id": "570647f9",
   "metadata": {},
   "outputs": [],
   "source": [
    "my_day.weekday()"
   ]
  },
  {
   "cell_type": "code",
   "execution_count": 12,
   "id": "ab5a9252",
   "metadata": {},
   "outputs": [],
   "source": [
    "my_day.isoweekday()"
   ]
  },
  {
   "cell_type": "markdown",
   "id": "46005802",
   "metadata": {},
   "source": [
    "9. When will you be (or when were you) 10,000 days old?\n",
    "\n"
   ]
  },
  {
   "cell_type": "code",
   "execution_count": 9,
   "id": "47bbb75f",
   "metadata": {},
   "outputs": [],
   "source": [
    "from datetime import timedelta\n",
    "ten_thousand = my_day + timedelta(days=10000)\n",
    "ten_thousand"
   ]
  },
  {
   "cell_type": "code",
   "execution_count": null,
   "id": "8fc1a506",
   "metadata": {},
   "outputs": [],
   "source": []
  }
 ],
 "metadata": {
  "kernelspec": {
   "display_name": "Python 3 (ipykernel)",
   "language": "python",
   "name": "python3"
  },
  "language_info": {
   "codemirror_mode": {
    "name": "ipython",
    "version": 3
   },
   "file_extension": ".py",
   "mimetype": "text/x-python",
   "name": "python",
   "nbconvert_exporter": "python",
   "pygments_lexer": "ipython3",
   "version": "3.8.16"
  }
 },
 "nbformat": 4,
 "nbformat_minor": 5
}
