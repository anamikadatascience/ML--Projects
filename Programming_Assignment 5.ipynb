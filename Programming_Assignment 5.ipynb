{
 "cells": [
  {
   "cell_type": "markdown",
   "id": "8b10bb0e",
   "metadata": {},
   "source": [
    "1.\tWrite a Python Program to Find LCM?"
   ]
  },
  {
   "cell_type": "code",
   "execution_count": 1,
   "id": "8a829654",
   "metadata": {},
   "outputs": [],
   "source": [
    "def find_gcd(x, y):\n",
    "    while y:\n",
    "        x, y = y, x % y\n",
    "    return x\n",
    "\n",
    "def find_lcm(num1, num2):\n",
    "    if num1 == 0 or num2 == 0:\n",
    "        return 0\n",
    "    gcd = find_gcd(num1, num2)\n",
    "    lcm = (num1 * num2) // gcd\n",
    "    return lcm"
   ]
  },
  {
   "cell_type": "markdown",
   "id": "4f321123",
   "metadata": {},
   "source": [
    "2. Write a Python Program to Find HCF?"
   ]
  },
  {
   "cell_type": "code",
   "execution_count": 2,
   "id": "5257c257",
   "metadata": {},
   "outputs": [],
   "source": [
    "def find_gcd(x,y):\n",
    "    while y:\n",
    "        x,y = y, x % y\n",
    "        return x"
   ]
  },
  {
   "cell_type": "markdown",
   "id": "4681a0d4",
   "metadata": {},
   "source": [
    "3.\tWrite a Python Program to Convert Decimal to Binary, Octal and Hexadecimal?"
   ]
  },
  {
   "cell_type": "code",
   "execution_count": 3,
   "id": "65481416",
   "metadata": {},
   "outputs": [],
   "source": [
    "def decimal_to_binary(decimal_num):\n",
    "    return bin(decimal_num).replace(\"0b\", \"\")\n",
    "\n",
    "def decimal_to_octal(decimal_num):\n",
    "    return oct(decimal_num).replace(\"0o\", \"\")\n",
    "\n",
    "def decimal_to_hexadecimal(decimal_num):\n",
    "    return hex(decimal_num).replace(\"0x\", \"\").upper()"
   ]
  },
  {
   "cell_type": "markdown",
   "id": "657a8054",
   "metadata": {},
   "source": [
    "4.\tWrite a Python Program To Find ASCII value of a character?"
   ]
  },
  {
   "cell_type": "code",
   "execution_count": null,
   "id": "98d9f92f",
   "metadata": {},
   "outputs": [],
   "source": [
    "try:\n",
    "    char = input(\"Enter a character: \")\n",
    "    ascii_value = ord(char)\n",
    "    print(\"The ASCII value of\", char, \"is:\", ascii_value)\n",
    "except TypeError:\n",
    "    print(\"Invalid input! Please enter a single character.\")"
   ]
  },
  {
   "cell_type": "markdown",
   "id": "5fe4a32c",
   "metadata": {},
   "source": [
    "5.\tWrite a Python Program to Make a Simple Calculator with 4 basic mathematical operations?"
   ]
  },
  {
   "cell_type": "code",
   "execution_count": null,
   "id": "ea783764",
   "metadata": {},
   "outputs": [],
   "source": [
    "def add(x, y):\n",
    "    return x + y\n",
    "\n",
    "def subtract(x, y):\n",
    "    return x - y\n",
    "\n",
    "def multiply(x, y):\n",
    "    return x * y\n",
    "\n",
    "def divide(x, y):\n",
    "    if y == 0:\n",
    "        return \"Error: Division by zero is not allowed.\"\n",
    "    return x / y"
   ]
  },
  {
   "cell_type": "code",
   "execution_count": null,
   "id": "754ad5bd",
   "metadata": {},
   "outputs": [],
   "source": []
  }
 ],
 "metadata": {
  "kernelspec": {
   "display_name": "Python 3 (ipykernel)",
   "language": "python",
   "name": "python3"
  },
  "language_info": {
   "codemirror_mode": {
    "name": "ipython",
    "version": 3
   },
   "file_extension": ".py",
   "mimetype": "text/x-python",
   "name": "python",
   "nbconvert_exporter": "python",
   "pygments_lexer": "ipython3",
   "version": "3.8.16"
  }
 },
 "nbformat": 4,
 "nbformat_minor": 5
}
