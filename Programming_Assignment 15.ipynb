{
 "cells": [
  {
   "cell_type": "markdown",
   "id": "213fb478",
   "metadata": {},
   "source": [
    "Question 1:\n",
    "Please write a program using generator to print the numbers which can be divisible by 5 and 7 between 0 and n in comma separated form while n is input by console.\n",
    "Example:\n",
    "If the following n is given as input to the program:\n",
    "100\n",
    "Then, the output of the program should be:\n",
    "0,35,70\n"
   ]
  },
  {
   "cell_type": "code",
   "execution_count": 1,
   "id": "f745ac82",
   "metadata": {},
   "outputs": [
    {
     "name": "stdout",
     "output_type": "stream",
     "text": [
      "Enter a number: 35\n",
      "0,35\n"
     ]
    }
   ],
   "source": [
    "def divisible_by_5_and_7(n):\n",
    "    for i in range(n + 1):\n",
    "        if i % 5 == 0 and i % 7 == 0:\n",
    "            yield i\n",
    "\n",
    "n = int(input(\"Enter a number: \"))\n",
    "result = list(divisible_by_5_and_7(n))\n",
    "output = \",\".join(map(str, result))\n",
    "print(output)"
   ]
  },
  {
   "cell_type": "markdown",
   "id": "0d45b27e",
   "metadata": {},
   "source": [
    "Question 2:\n",
    "Please write a program using generator to print the even numbers between 0 and n in comma separated form while n is input by console.\n",
    "Example:\n",
    "If the following n is given as input to the program:\n",
    "10\n",
    "Then, the output of the program should be:\n",
    "0,2,4,6,8,10\n"
   ]
  },
  {
   "cell_type": "code",
   "execution_count": 2,
   "id": "0376a729",
   "metadata": {},
   "outputs": [
    {
     "name": "stdout",
     "output_type": "stream",
     "text": [
      "Enter a number: 10\n",
      "0,2,4,6,8,10\n"
     ]
    }
   ],
   "source": [
    "def even_numbers_generator(n):\n",
    "    for num in range(n + 1):\n",
    "        if num % 2 == 0:\n",
    "            yield num\n",
    "\n",
    "# Example usage:\n",
    "n = int(input(\"Enter a number: \"))\n",
    "result = even_numbers_generator(n)\n",
    "output = \",\".join(str(num) for num in result)\n",
    "print(output)"
   ]
  },
  {
   "cell_type": "markdown",
   "id": "320ef682",
   "metadata": {},
   "source": [
    "Question 3:\n",
    "The Fibonacci Sequence is computed based on the following formula:\n",
    "f(n)=0 if n=0\n",
    "f(n)=1 if n=1\n",
    "f(n)=f(n-1)+f(n-2) if n>1\n",
    "Please write a program using list comprehension to print the Fibonacci Sequence in comma separated form with a given n input by console.\n",
    "Example:\n",
    "If the following n is given as input to the program:\n",
    "7\n",
    "\n",
    "Then, the output of the program should be:\n",
    "0,1,1,2,3,5,8,13\n"
   ]
  },
  {
   "cell_type": "code",
   "execution_count": 3,
   "id": "f406190b",
   "metadata": {},
   "outputs": [
    {
     "name": "stdout",
     "output_type": "stream",
     "text": [
      "Enter a number: 7\n",
      "0,1,1,2,3,5,8,13\n"
     ]
    }
   ],
   "source": [
    "def fibonacci_sequence(n):\n",
    "    sequence = [0, 1]\n",
    "    [sequence.append(sequence[-1] + sequence[-2]) for _ in range(2, n + 1)]\n",
    "    return sequence\n",
    "\n",
    "# Example usage:\n",
    "n = int(input(\"Enter a number: \"))\n",
    "result = fibonacci_sequence(n)\n",
    "output = \",\".join(map(str, result))\n",
    "print(output)"
   ]
  },
  {
   "cell_type": "markdown",
   "id": "015f8bb5",
   "metadata": {},
   "source": [
    "Question 4:\n",
    "Assuming that we have some email addresses in the \"username@companyname.com\" format, please write program to print the user name of a given email address. Both user names and company names are composed of letters only.\n",
    "Example:\n",
    "If the following email address is given as input to the program:\n",
    "john@google.com\n",
    "Then, the output of the program should be:\n",
    "john\n"
   ]
  },
  {
   "cell_type": "code",
   "execution_count": 4,
   "id": "f9e5eb06",
   "metadata": {},
   "outputs": [
    {
     "name": "stdout",
     "output_type": "stream",
     "text": [
      "Enter an email address: anamikkamehra@gmail.com\n",
      "anamikkamehra\n"
     ]
    }
   ],
   "source": [
    "def get_username_from_email(email_address):\n",
    "    username = email_address.split('@')[0]\n",
    "    return username\n",
    "\n",
    "# Example usage:\n",
    "email_address = input(\"Enter an email address: \")\n",
    "username = get_username_from_email(email_address)\n",
    "print(username)"
   ]
  },
  {
   "cell_type": "markdown",
   "id": "b6867cb2",
   "metadata": {},
   "source": [
    "\n",
    "Question 5:\n",
    "Define a class named Shape and its subclass Square. The Square class has an init function which takes a length as argument. Both classes have a area function which can print the area of the shape where Shape's area is 0 by default.\n",
    "\n"
   ]
  },
  {
   "cell_type": "code",
   "execution_count": 2,
   "id": "0fa0c5fd",
   "metadata": {},
   "outputs": [
    {
     "name": "stdout",
     "output_type": "stream",
     "text": [
      "Area of the shape: 0\n",
      "Area of the square: 25\n"
     ]
    }
   ],
   "source": [
    "class Shape:\n",
    "    def area(self):\n",
    "        return 0\n",
    "\n",
    "class Square(Shape):\n",
    "    def __init__(self, length):\n",
    "        self.length = length\n",
    "    \n",
    "    def area(self):\n",
    "        return self.length ** 2\n",
    "\n",
    "# Create instances of Shape and Square classes\n",
    "shape = Shape()\n",
    "square = Square(5)\n",
    "\n",
    "# Call the area method for each instance\n",
    "print(\"Area of the shape:\", shape.area())  # Output: 0\n",
    "print(\"Area of the square:\", square.area())  # Output: 25\n",
    "\n",
    "\n",
    "\n",
    "\n",
    "\n"
   ]
  },
  {
   "cell_type": "code",
   "execution_count": null,
   "id": "d60da0c5",
   "metadata": {},
   "outputs": [],
   "source": []
  }
 ],
 "metadata": {
  "kernelspec": {
   "display_name": "Python 3 (ipykernel)",
   "language": "python",
   "name": "python3"
  },
  "language_info": {
   "codemirror_mode": {
    "name": "ipython",
    "version": 3
   },
   "file_extension": ".py",
   "mimetype": "text/x-python",
   "name": "python",
   "nbconvert_exporter": "python",
   "pygments_lexer": "ipython3",
   "version": "3.8.16"
  }
 },
 "nbformat": 4,
 "nbformat_minor": 5
}
