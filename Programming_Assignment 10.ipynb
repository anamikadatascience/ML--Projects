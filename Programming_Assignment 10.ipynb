{
 "cells": [
  {
   "cell_type": "markdown",
   "id": "89308040",
   "metadata": {},
   "source": [
    "1.\tWrite a Python program to find sum of elements in list?"
   ]
  },
  {
   "cell_type": "code",
   "execution_count": 1,
   "id": "caf94988",
   "metadata": {},
   "outputs": [],
   "source": [
    "def find_sum_of_elements(input_list):\n",
    "    total_sum = 0\n",
    "    for num in input_list:\n",
    "        total_sum += num\n",
    "    return total_sum"
   ]
  },
  {
   "cell_type": "markdown",
   "id": "92bc83a5",
   "metadata": {},
   "source": [
    "2.\tWrite a Python program to  Multiply all numbers in the list?"
   ]
  },
  {
   "cell_type": "code",
   "execution_count": 2,
   "id": "e5b3b197",
   "metadata": {},
   "outputs": [],
   "source": [
    "def multiply_all_elements(input_list):\n",
    "    result = 1\n",
    "    for num in input_list:\n",
    "        result *= num\n",
    "    return result"
   ]
  },
  {
   "cell_type": "markdown",
   "id": "a98400a7",
   "metadata": {},
   "source": [
    "3.\tWrite a Python program to find smallest number in a list?"
   ]
  },
  {
   "cell_type": "code",
   "execution_count": 3,
   "id": "00ea6f38",
   "metadata": {},
   "outputs": [],
   "source": [
    "def find_smallest_number(input_list):\n",
    "    if not input_list:\n",
    "        return None\n",
    "\n",
    "    smallest = input_list[0]\n",
    "    for num in input_list:\n",
    "        if num < smallest:\n",
    "            smallest = num\n",
    "    return smallest\n"
   ]
  },
  {
   "cell_type": "markdown",
   "id": "9cc0aa5b",
   "metadata": {},
   "source": [
    "4.\tWrite a Python program to find largest number in a list?"
   ]
  },
  {
   "cell_type": "code",
   "execution_count": 4,
   "id": "ef428a2c",
   "metadata": {},
   "outputs": [],
   "source": [
    "def find_largest_number(input_list):\n",
    "    if not input_list:\n",
    "        return None\n",
    "\n",
    "    largest = input_list[0]\n",
    "    for num in input_list:\n",
    "        if num > largest:\n",
    "            largest = num\n",
    "    return largest"
   ]
  },
  {
   "cell_type": "markdown",
   "id": "9b10f684",
   "metadata": {},
   "source": [
    "5.\tWrite a Python program to find second largest number in a list?"
   ]
  },
  {
   "cell_type": "code",
   "execution_count": 5,
   "id": "f6227d0b",
   "metadata": {},
   "outputs": [],
   "source": [
    "def find_second_largest_number(input_list):\n",
    "    if len(input_list) < 2:\n",
    "        return None\n",
    "\n",
    "    largest = max(input_list[0], input_list[1])\n",
    "    second_largest = min(input_list[0], input_list[1])\n",
    "\n",
    "    for num in input_list[2:]:\n",
    "        if num > largest:\n",
    "            second_largest = largest\n",
    "            largest = num\n",
    "        elif num > second_largest:\n",
    "            second_largest = num\n",
    "\n",
    "    return second_largest"
   ]
  },
  {
   "cell_type": "markdown",
   "id": "08e8c9c0",
   "metadata": {},
   "source": [
    "6.\tWrite a Python program to find N largest elements from a list?"
   ]
  },
  {
   "cell_type": "code",
   "execution_count": 6,
   "id": "46ed8f33",
   "metadata": {},
   "outputs": [],
   "source": [
    "def find_n_largest_elements(input_list, n):\n",
    "    if n <= 0 or len(input_list) < n:\n",
    "        return None\n",
    "\n",
    "    input_list.sort(reverse=True)\n",
    "    return input_list[:n]\n"
   ]
  },
  {
   "cell_type": "markdown",
   "id": "e2b83d03",
   "metadata": {},
   "source": [
    "7.\tWrite a Python program to print even numbers in a list?"
   ]
  },
  {
   "cell_type": "code",
   "execution_count": 7,
   "id": "b3e457f0",
   "metadata": {},
   "outputs": [],
   "source": [
    "def print_even_numbers(input_list):\n",
    "    even_numbers = [num for num in input_list if num % 2 == 0]\n",
    "    return even_numbers\n",
    "\n",
    "# Example usage:\n",
    "if __name__ == \"__main__\":\n",
    "    my_list = [1, 2, 3, 4, 5, 6, 7, 8, 9, 10]\n",
    "    even_numbers = print_even_numbers(my_list)\n",
    "    print(\"Even numbers in the list are:\", even_numbers)"
   ]
  },
  {
   "cell_type": "markdown",
   "id": "caeb728b",
   "metadata": {},
   "source": [
    "8.\tWrite a Python program to print odd numbers in a List?"
   ]
  },
  {
   "cell_type": "code",
   "execution_count": 8,
   "id": "a3443125",
   "metadata": {},
   "outputs": [],
   "source": [
    "def print_odd_numbers(input_list):\n",
    "    odd_numbers = [num for num in input_list if num % 2 != 0]\n",
    "    return odd_numbers\n",
    "\n",
    "# Example usage:\n",
    "if __name__ == \"__main__\":\n",
    "    my_list = [1, 2, 3, 4, 5, 6, 7, 8, 9, 10]\n",
    "    odd_numbers = print_odd_numbers(my_list)\n",
    "    print(\"Odd numbers in the list are:\", odd_numbers)"
   ]
  },
  {
   "cell_type": "markdown",
   "id": "68425a1c",
   "metadata": {},
   "source": [
    "9.\tWrite a Python program to Remove empty List from List?"
   ]
  },
  {
   "cell_type": "code",
   "execution_count": 9,
   "id": "312ef281",
   "metadata": {},
   "outputs": [],
   "source": [
    "def remove_empty_lists(input_list):\n",
    "    return [sublist for sublist in input_list if isinstance(sublist, list) and len(sublist) > 0]\n",
    "\n",
    "# Example usage:\n",
    "if __name__ == \"__main__\":\n",
    "    my_list = [1, 2, [], 3, [], 4, [5, 6], [], [7, 8, 9], []]\n",
    "    cleaned_list = remove_empty_lists(my_list)\n",
    "    print(\"List after removing empty lists:\", cleaned_list)"
   ]
  },
  {
   "cell_type": "markdown",
   "id": "96f2fab9",
   "metadata": {},
   "source": [
    "10.\tWrite a Python program to Cloning or Copying a list?"
   ]
  },
  {
   "cell_type": "code",
   "execution_count": 10,
   "id": "3a957257",
   "metadata": {},
   "outputs": [],
   "source": [
    "def clone_list_using_slicing(input_list):\n",
    "    return input_list[:]\n",
    "\n",
    "# Example usage:\n",
    "if __name__ == \"__main__\":\n",
    "    my_list = [1, 2, 3, 4, 5]\n",
    "    cloned_list = clone_list_using_slicing(my_list)\n",
    "    print(\"Cloned list using slicing:\", cloned_list)"
   ]
  },
  {
   "cell_type": "markdown",
   "id": "b0747130",
   "metadata": {},
   "source": [
    "11.\tWrite a Python program to Count occurrences of an element in a list?"
   ]
  },
  {
   "cell_type": "code",
   "execution_count": 11,
   "id": "2553a43e",
   "metadata": {},
   "outputs": [],
   "source": [
    "def count_occurrences(input_list, element):\n",
    "    return input_list.count(element)\n",
    "\n",
    "# Example usage:\n",
    "if __name__ == \"__main__\":\n",
    "    my_list = [1, 2, 3, 4, 2, 5, 2, 6, 2]\n",
    "    element_to_count = 2\n",
    "    occurrences = count_occurrences(my_list, element_to_count)\n",
    "    print(f\"The element {element_to_count} appears {occurrences} times in the list.\")"
   ]
  },
  {
   "cell_type": "code",
   "execution_count": null,
   "id": "c51b1dc8",
   "metadata": {},
   "outputs": [],
   "source": []
  }
 ],
 "metadata": {
  "kernelspec": {
   "display_name": "Python 3 (ipykernel)",
   "language": "python",
   "name": "python3"
  },
  "language_info": {
   "codemirror_mode": {
    "name": "ipython",
    "version": 3
   },
   "file_extension": ".py",
   "mimetype": "text/x-python",
   "name": "python",
   "nbconvert_exporter": "python",
   "pygments_lexer": "ipython3",
   "version": "3.8.16"
  }
 },
 "nbformat": 4,
 "nbformat_minor": 5
}
