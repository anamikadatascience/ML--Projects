{
 "cells": [
  {
   "cell_type": "markdown",
   "id": "8761a5b2",
   "metadata": {},
   "source": [
    "Q1. What does one mean by the term \"machine learning\"?"
   ]
  },
  {
   "cell_type": "markdown",
   "id": "9bb5a69c",
   "metadata": {},
   "source": [
    "The term \"machine learning\" refers to the process by which computers or machines use data and statistical techniques to learn and adapt their performance based on that data."
   ]
  },
  {
   "cell_type": "markdown",
   "id": "9698a1e2",
   "metadata": {},
   "source": [
    "Q2.Can you think of 4 distinct types of issues where it shines?"
   ]
  },
  {
   "cell_type": "markdown",
   "id": "b85cfaab",
   "metadata": {},
   "source": [
    "1.imagea and speech recognition.\n",
    "2.Natural language processing.\n",
    "3.Recommender systems.\n",
    "4.Healthcare and medicine."
   ]
  },
  {
   "cell_type": "markdown",
   "id": "03adaae3",
   "metadata": {},
   "source": [
    "Q3.What is a labeled training set, and how does it work?"
   ]
  },
  {
   "cell_type": "markdown",
   "id": "4dde6fda",
   "metadata": {},
   "source": [
    "A labeled training set is a dataset used in supervised machine learning.\n",
    "The process of supervised learning involves training a machine learning model on the labeled training set to learn the relationship between the input features and the output labels. The goal is for the model to learn from the training data and make accurate predictions on new, unseen data."
   ]
  },
  {
   "cell_type": "markdown",
   "id": "cb7a0812",
   "metadata": {},
   "source": [
    "Q4.What are the two most important tasks that are supervised?"
   ]
  },
  {
   "cell_type": "markdown",
   "id": "6f9e253a",
   "metadata": {},
   "source": [
    "1.classification.\n",
    "2.Regression."
   ]
  },
  {
   "cell_type": "markdown",
   "id": "10b30b01",
   "metadata": {},
   "source": [
    "Q5.Can you think of four examples of unsupervised tasks?"
   ]
  },
  {
   "cell_type": "markdown",
   "id": "5c86c729",
   "metadata": {},
   "source": [
    "1.clustering.\n",
    "2.Dimentionality reduction.\n",
    "3.Anomaly detection.\n",
    "4.Association rule mining."
   ]
  },
  {
   "cell_type": "markdown",
   "id": "0860b131",
   "metadata": {},
   "source": [
    "Q6.State the machine learning model that would be best to make a robot walk through various unfamiliar terrains?"
   ]
  },
  {
   "cell_type": "markdown",
   "id": "8957dac5",
   "metadata": {},
   "source": [
    "For making a robot walk through various unfamiliar terrains, a model based on Reinforcement Learning (RL) would be best suited."
   ]
  },
  {
   "cell_type": "markdown",
   "id": "c50887b5",
   "metadata": {},
   "source": [
    "Q7.Which algorithm will you use to divide your customers into different groups?"
   ]
  },
  {
   "cell_type": "markdown",
   "id": "1a3f84fc",
   "metadata": {},
   "source": [
    "To divide customers into different groups based on their similarities and characteristics, one of the popular and effective algorithms used is K-means clustering."
   ]
  },
  {
   "cell_type": "markdown",
   "id": "ef1c13eb",
   "metadata": {},
   "source": [
    "Q8.Will you consider the problem of spam detection to be a supervised or unsupervised learning problem?"
   ]
  },
  {
   "cell_type": "markdown",
   "id": "21eed022",
   "metadata": {},
   "source": [
    "Ans: supervised learning problem."
   ]
  },
  {
   "cell_type": "markdown",
   "id": "362b8213",
   "metadata": {},
   "source": [
    "9.What is the concept of an online learning system?"
   ]
  },
  {
   "cell_type": "markdown",
   "id": "8a3a821a",
   "metadata": {},
   "source": [
    "Ans: The concept of an online learning system encompasses various elements:\n",
    "        1.course content\n",
    "        2.access and availablity\n",
    "        3.interactivity and engagement\n",
    "        4.accesment and feedback\n",
    "        5.adeptive learning"
   ]
  },
  {
   "cell_type": "markdown",
   "id": "75fffe93",
   "metadata": {},
   "source": [
    "10. What is out-of-core learning, and how does it differ from core learning?"
   ]
  },
  {
   "cell_type": "markdown",
   "id": "8fac5997",
   "metadata": {},
   "source": [
    "Ans: Out-of-core learning, also known as online learning or incremental learning, is a machine learning approach designed to handle large datasets that cannot fit entirely into a computer's memory (RAM). This approach is particularly useful when dealing with \"big data\" scenarios where the dataset is too large to be processed all at once. Out-of-core learning allows models to be trained and updated incrementally, processing smaller subsets of the data in a sequential manner.\n",
    "\n",
    "Core learning, as a term, isn't a common concept in machine learning. However, I'll assume you might be referring to standard machine learning approaches that assume the entire dataset can fit into memory and are trained using batch processing."
   ]
  },
  {
   "cell_type": "markdown",
   "id": "83099c03",
   "metadata": {},
   "source": [
    "11. What kind of learning algorithm makes predictions using a similarity measure?"
   ]
  },
  {
   "cell_type": "markdown",
   "id": "e3e2ff5f",
   "metadata": {},
   "source": [
    "Ans: Learning algorithms that make predictions using a similarity measure often fall under the category of instance-based learning or memory-based learning. These algorithms rely on the idea that similar instances in the training data will have similar outputs or labels. Instead of explicitly learning a model's parameters, these algorithms store the training data and make predictions by comparing the new instance to the stored instances based on some similarity metric."
   ]
  },
  {
   "cell_type": "markdown",
   "id": "993dc514",
   "metadata": {},
   "source": [
    "12. What's the difference between a model parameter and a hyperparameter in a learning algorithm?"
   ]
  },
  {
   "cell_type": "markdown",
   "id": "c0c69ba1",
   "metadata": {},
   "source": [
    "Ans: Parameters are the configuration model, which are internal to the model. Hyperparameters are the explicitly specified parameters that control the training process.\n",
    "    "
   ]
  },
  {
   "cell_type": "markdown",
   "id": "a300eb38",
   "metadata": {},
   "source": [
    "13. What are the criteria that model-based learning algorithms look for? What is the most popular method they use to achieve success? What method do they use to make predictions?"
   ]
  },
  {
   "cell_type": "markdown",
   "id": "dae31149",
   "metadata": {},
   "source": [
    "Ans: Model based learning algorithm search for the optimal value of parameters in a model that will give the best results for the new instances. We often use a cost function or similar to determine what the parameter value has to be in order to minimize the function."
   ]
  },
  {
   "cell_type": "markdown",
   "id": "59e71d10",
   "metadata": {},
   "source": [
    "14.Can you name four of the most important Machine Learning challenges?"
   ]
  },
  {
   "cell_type": "markdown",
   "id": "f37b7690",
   "metadata": {},
   "source": [
    "Ans: 1. overlifting and generalization.\n",
    "    2.data quality and quantity.\n",
    "    3.future engineering and selection.\n",
    "    4.model complexity and interpritablity."
   ]
  },
  {
   "cell_type": "markdown",
   "id": "07d6ff7d",
   "metadata": {},
   "source": [
    "15. What happens if the model performs well on the training data but fails to generalize the results to new situations? Can you think of three different options?"
   ]
  },
  {
   "cell_type": "markdown",
   "id": "9e97550f",
   "metadata": {},
   "source": [
    "Ans: 1.regularization technique.\n",
    "    2. future selection and engineering.\n",
    "    3. ensemble method.\n",
    "    \n",
    "    "
   ]
  },
  {
   "cell_type": "markdown",
   "id": "80009450",
   "metadata": {},
   "source": [
    "16.What exactly is a test set, and why would you need one?"
   ]
  },
  {
   "cell_type": "markdown",
   "id": "006bd801",
   "metadata": {},
   "source": [
    "Ans: A test set is a portion of a data set used in data mining to assess the likely future performance of a single prediction or classification model that has been selected from among competing models, based on its performance with the validation set."
   ]
  }
 ],
 "metadata": {
  "kernelspec": {
   "display_name": "Python 3 (ipykernel)",
   "language": "python",
   "name": "python3"
  },
  "language_info": {
   "codemirror_mode": {
    "name": "ipython",
    "version": 3
   },
   "file_extension": ".py",
   "mimetype": "text/x-python",
   "name": "python",
   "nbconvert_exporter": "python",
   "pygments_lexer": "ipython3",
   "version": "3.8.16"
  }
 },
 "nbformat": 4,
 "nbformat_minor": 5
}
