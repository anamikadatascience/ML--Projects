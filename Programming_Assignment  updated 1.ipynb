{
 "cells": [
  {
   "cell_type": "markdown",
   "id": "ee299818",
   "metadata": {},
   "source": [
    "1. Write a Python program to print \"Hello Python\"?"
   ]
  },
  {
   "cell_type": "code",
   "execution_count": 1,
   "id": "4ccbec81",
   "metadata": {},
   "outputs": [
    {
     "name": "stdout",
     "output_type": "stream",
     "text": [
      "hello Python\n"
     ]
    }
   ],
   "source": [
    "print(\"hello Python\")"
   ]
  },
  {
   "cell_type": "markdown",
   "id": "07a6c2c7",
   "metadata": {},
   "source": [
    "2.Write a Python program to do arithmetical operations addition and division.?"
   ]
  },
  {
   "cell_type": "code",
   "execution_count": 1,
   "id": "b457b9f5",
   "metadata": {},
   "outputs": [
    {
     "name": "stdout",
     "output_type": "stream",
     "text": [
      "Addition: 15\n",
      "Division: 2.0\n"
     ]
    }
   ],
   "source": [
    "def arithmetic_operations_2(a, b):\n",
    "    addition = eval(f\"{a} + {b}\")\n",
    "    division = eval(f\"{a} / {b}\")\n",
    "    return addition, division\n",
    "\n",
    "x = 10\n",
    "y = 5\n",
    "add_result, div_result = arithmetic_operations_2(x, y)\n",
    "print(\"Addition:\", add_result)\n",
    "print(\"Division:\", div_result)"
   ]
  },
  {
   "cell_type": "markdown",
   "id": "8c7cdaa4",
   "metadata": {},
   "source": [
    "3.\tWrite a Python program to find the area of a triangle?"
   ]
  },
  {
   "cell_type": "code",
   "execution_count": 2,
   "id": "0b9e1f96",
   "metadata": {},
   "outputs": [
    {
     "name": "stdout",
     "output_type": "stream",
     "text": [
      "Area of the triangle: 25.0\n"
     ]
    }
   ],
   "source": [
    "def area_of_triangle_1(base, height):\n",
    "    area = 0.5 * base * height\n",
    "    return area\n",
    "\n",
    "base = 10\n",
    "height = 5\n",
    "triangle_area = area_of_triangle_1(base, height)\n",
    "print(\"Area of the triangle:\", triangle_area)"
   ]
  },
  {
   "cell_type": "markdown",
   "id": "d71b05f8",
   "metadata": {},
   "source": [
    "4.\tWrite a Python program to swap two variables?"
   ]
  },
  {
   "cell_type": "code",
   "execution_count": 3,
   "id": "d6fb7dcb",
   "metadata": {},
   "outputs": [
    {
     "name": "stdout",
     "output_type": "stream",
     "text": [
      "After swapping - x: 10 y: 5\n"
     ]
    }
   ],
   "source": [
    "def swap_variables_1(a, b):\n",
    "    temp = a\n",
    "    a = b\n",
    "    b = temp\n",
    "    return a, b\n",
    "\n",
    "x = 5\n",
    "y = 10\n",
    "x, y = swap_variables_1(x, y)\n",
    "print(\"After swapping - x:\", x, \"y:\", y)"
   ]
  },
  {
   "cell_type": "markdown",
   "id": "aea2bd87",
   "metadata": {},
   "source": [
    "5.\tWrite a Python program to generate a random number?"
   ]
  },
  {
   "cell_type": "code",
   "execution_count": 4,
   "id": "6ce6d614",
   "metadata": {},
   "outputs": [
    {
     "name": "stdout",
     "output_type": "stream",
     "text": [
      "Random number: 0.8411448617145192\n"
     ]
    }
   ],
   "source": [
    "import random\n",
    "\n",
    "def generate_random_number_1():\n",
    "    return random.random()\n",
    "\n",
    "random_number = generate_random_number_1()\n",
    "print(\"Random number:\", random_number)"
   ]
  },
  {
   "cell_type": "code",
   "execution_count": null,
   "id": "f5d665e0",
   "metadata": {},
   "outputs": [],
   "source": []
  }
 ],
 "metadata": {
  "kernelspec": {
   "display_name": "Python 3 (ipykernel)",
   "language": "python",
   "name": "python3"
  },
  "language_info": {
   "codemirror_mode": {
    "name": "ipython",
    "version": 3
   },
   "file_extension": ".py",
   "mimetype": "text/x-python",
   "name": "python",
   "nbconvert_exporter": "python",
   "pygments_lexer": "ipython3",
   "version": "3.8.16"
  }
 },
 "nbformat": 4,
 "nbformat_minor": 5
}
