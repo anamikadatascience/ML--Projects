{
 "cells": [
  {
   "cell_type": "markdown",
   "id": "d7e66425",
   "metadata": {},
   "source": [
    "1.\tDefine the Bayesian interpretation of probability."
   ]
  },
  {
   "cell_type": "markdown",
   "id": "c1ed40d1",
   "metadata": {},
   "source": [
    "Ans: The Bayesian interpretation of probability views probability as a measure of our degree of belief or confidence in the likelihood of an event occurring, based on available evidence and prior knowledge. It's a way of updating our beliefs as new information is obtained."
   ]
  },
  {
   "cell_type": "markdown",
   "id": "834a32cc",
   "metadata": {},
   "source": [
    "2.\tDefine probability of a union of two events with equation."
   ]
  },
  {
   "cell_type": "markdown",
   "id": "e95a5791",
   "metadata": {},
   "source": [
    "Ans: The probability of the union of two events (A or B) is defined as the sum of their individual probabilities minus the probability of their intersection.\n",
    "\n",
    "Equation: P(A ∪ B) = P(A) + P(B) - P(A ∩ B)"
   ]
  },
  {
   "cell_type": "markdown",
   "id": "c7679c5e",
   "metadata": {},
   "source": [
    "3.\tWhat is joint probability? What is its formula?"
   ]
  },
  {
   "cell_type": "markdown",
   "id": "e73178d5",
   "metadata": {},
   "source": [
    "Ans: Joint Probability: Joint probability refers to the likelihood of two or more events happening together.\n",
    "\n",
    "Formula: For two events A and B, the joint probability is denoted as P(A ∩ B) and is calculated by:\n",
    "\n",
    "P(A ∩ B) = P(A) * P(B|A)\n",
    "\n",
    "Where:\n",
    "\n",
    "P(A) is the probability of event A.\n",
    "P(B|A) is the conditional probability of event B given that event A has occurred"
   ]
  },
  {
   "cell_type": "markdown",
   "id": "7413ff28",
   "metadata": {},
   "source": [
    "4.\tWhat is chain rule of probability?"
   ]
  },
  {
   "cell_type": "markdown",
   "id": "f3f6cf73",
   "metadata": {},
   "source": [
    "Ans: The chain rule of probability is a fundamental rule that allows the calculation of the probability of a sequence of events by breaking it down into conditional probabilities.\n",
    "\n",
    "In general terms, for events A, B, and C:\n",
    "\n",
    "P(A and B and C) = P(A) * P(B|A) * P(C|A and B)\n",
    "\n",
    "It can be extended to more events in the sequence."
   ]
  },
  {
   "cell_type": "markdown",
   "id": "a80f97d2",
   "metadata": {},
   "source": [
    "5.\tWhat is conditional probability means? What is the formula of it?"
   ]
  },
  {
   "cell_type": "markdown",
   "id": "cd4ab06d",
   "metadata": {},
   "source": [
    "Ans: Conditional Probability: Conditional probability measures the likelihood of an event occurring given that another event has already occurred.\n",
    "\n",
    "Formula: The conditional probability of event B given event A is denoted as P(B|A) and is calculated using the formula:\n",
    "\n",
    "P(B|A) = P(A and B) / P(A)\n",
    "\n",
    "Where:\n",
    "\n",
    "P(A and B) is the joint probability of events A and B occurring together.\n",
    "P(A) is the probability of event A occurring."
   ]
  },
  {
   "cell_type": "markdown",
   "id": "6329cef2",
   "metadata": {},
   "source": [
    "6.\tWhat are continuous random variables?"
   ]
  },
  {
   "cell_type": "markdown",
   "id": "881712fa",
   "metadata": {},
   "source": [
    "Ans: Continuous Random Variables: Continuous random variables can take any value within a continuous range. They have an infinite number of possible outcomes, often associated with measurements, and are described by probability density functions (PDFs). Examples include height, weight, and time."
   ]
  },
  {
   "cell_type": "markdown",
   "id": "51f1ad72",
   "metadata": {},
   "source": [
    "7.\tWhat are Bernoulli distributions? What is the formula of it?"
   ]
  },
  {
   "cell_type": "markdown",
   "id": "abce726f",
   "metadata": {},
   "source": [
    "Ans: Bernoulli Distribution: The Bernoulli distribution models a binary random variable that can take one of two possible outcomes, typically denoted as \"success\" (1) or \"failure\" (0). It represents a single trial with a fixed probability of success.\n",
    "\n",
    "Formula:\n",
    "For a Bernoulli distribution with parameter p (probability of success):\n",
    "\n",
    "P(X = 1) = p\n",
    "P(X = 0) = 1 - p"
   ]
  },
  {
   "cell_type": "markdown",
   "id": "dad52b99",
   "metadata": {},
   "source": [
    "8.\tWhat is binomial distribution? What is the formula?"
   ]
  },
  {
   "cell_type": "markdown",
   "id": "962da6cf",
   "metadata": {},
   "source": [
    "Ans: Binomial Distribution: The binomial distribution models the number of successes in a fixed number of independent Bernoulli trials, where each trial has the same probability of success.\n",
    "\n",
    "Formula:\n",
    "For a binomial distribution with parameters n (number of trials) and p (probability of success in each trial):\n",
    "\n",
    "P(X = k) = (n choose k) * p^k * (1 - p)^(n - k)\n",
    "Where:\n",
    "\n",
    "(n choose k) represents the binomial coefficient, calculated as n! / (k! * (n - k)!).\n",
    "k is the number of successes.\n",
    "p is the probability of success in each trial.\n",
    "n is the total number of trials."
   ]
  },
  {
   "cell_type": "markdown",
   "id": "e3ba334f",
   "metadata": {},
   "source": [
    "9.\tWhat is Poisson distribution? What is the formula?"
   ]
  },
  {
   "cell_type": "markdown",
   "id": "f78f8b25",
   "metadata": {},
   "source": [
    "Ans: Poisson Distribution: The Poisson distribution models the number of events that occur in a fixed interval of time or space, given a known average rate of occurrence.\n",
    "\n",
    "Formula:\n",
    "For a Poisson distribution with parameter λ (average rate of occurrence):\n",
    "\n",
    "P(X = k) = (e^(-λ) * λ^k) / k!\n",
    "Where:\n",
    "\n",
    "e is the base of the natural logarithm.\n",
    "k is the number of events.\n",
    "λ is the average rate of occurrence."
   ]
  },
  {
   "cell_type": "markdown",
   "id": "d70f996d",
   "metadata": {},
   "source": [
    "10.\tDefine covariance."
   ]
  },
  {
   "cell_type": "markdown",
   "id": "19ef9296",
   "metadata": {},
   "source": [
    "Ans: Covariance: Covariance is a statistical measure that quantifies the degree of association between two random variables. It indicates whether the variables tend to increase or decrease together. Positive covariance suggests a positive relationship, negative covariance suggests a negative relationship, and zero covariance indicates no linear relationship."
   ]
  },
  {
   "cell_type": "markdown",
   "id": "31aceef2",
   "metadata": {},
   "source": [
    "11.\tDefine correlation"
   ]
  },
  {
   "cell_type": "markdown",
   "id": "1db53228",
   "metadata": {},
   "source": [
    "Ans: Correlation: Correlation is a statistical measure that quantifies the strength and direction of a linear relationship between two variables. It ranges between -1 and 1, where -1 indicates a perfect negative linear correlation, 1 indicates a perfect positive linear correlation, and 0 indicates no linear correlation."
   ]
  },
  {
   "cell_type": "markdown",
   "id": "b53a2d33",
   "metadata": {},
   "source": [
    "12.\tDefine sampling with replacement. Give example."
   ]
  },
  {
   "cell_type": "markdown",
   "id": "d8f60934",
   "metadata": {},
   "source": [
    "Ans: Sampling with Replacement: Sampling with replacement is a method of selecting items from a population, where after each item is selected, it's returned to the population before the next selection. This means the same item can be chosen multiple times.\n",
    "\n",
    "Example: Drawing cards from a deck and putting each card back before drawing the next."
   ]
  },
  {
   "cell_type": "markdown",
   "id": "a17c5c32",
   "metadata": {},
   "source": [
    "13.\tWhat is sampling without replacement? Give example."
   ]
  },
  {
   "cell_type": "markdown",
   "id": "8fd337ba",
   "metadata": {},
   "source": [
    "Ans: Sampling without Replacement: Sampling without replacement is a method of selecting items from a population, where each item is selected only once and then removed from the population.\n",
    "\n",
    "Example: Drawing cards from a deck and not returning each card after it's drawn."
   ]
  },
  {
   "cell_type": "markdown",
   "id": "09971f78",
   "metadata": {},
   "source": [
    "14.\tWhat is hypothesis? Give example."
   ]
  },
  {
   "cell_type": "markdown",
   "id": "0ba31896",
   "metadata": {},
   "source": [
    "Ans: Hypothesis: A hypothesis is a testable statement or educated guess about a population or phenomenon, often used in statistical analysis. It proposes a relationship or difference between variables that can be evaluated through data analysis.\n",
    "\n",
    "Example: \"Increased exercise leads to weight loss.\" This is a hypothesis that suggests a causal relationship between exercise and weight loss, which can be tested through data collection and analysis."
   ]
  }
 ],
 "metadata": {
  "kernelspec": {
   "display_name": "Python 3 (ipykernel)",
   "language": "python",
   "name": "python3"
  },
  "language_info": {
   "codemirror_mode": {
    "name": "ipython",
    "version": 3
   },
   "file_extension": ".py",
   "mimetype": "text/x-python",
   "name": "python",
   "nbconvert_exporter": "python",
   "pygments_lexer": "ipython3",
   "version": "3.8.16"
  }
 },
 "nbformat": 4,
 "nbformat_minor": 5
}
