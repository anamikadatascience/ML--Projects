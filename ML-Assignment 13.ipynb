{
 "cells": [
  {
   "cell_type": "markdown",
   "id": "d8d54cc7",
   "metadata": {},
   "source": [
    "1. Provide an example of the concepts of Prior, Posterior, and Likelihood."
   ]
  },
  {
   "cell_type": "markdown",
   "id": "fda5b66a",
   "metadata": {},
   "source": [
    "Ans: Scenario: Diagnosing a Rare Disease\n",
    "Imagine you're a doctor trying to diagnose a rare disease in a patient based on a test result. The disease affects only 1 in 1000 people.\n",
    "\n",
    "Prior Probability: Before conducting any tests, your \"prior\" belief about the patient having the disease is low, say 0.001 (1 in 1000), because the disease is rare.\n",
    "\n",
    "Likelihood: You perform a diagnostic test that has a high accuracy rate of 99%. The \"likelihood\" is the probability of observing the test result given the true condition. In this case, if the patient has the disease, the test result is positive with a likelihood of 0.99. If the patient doesn't have the disease, the test result is negative with a likelihood of 0.99.\n",
    "\n",
    "Posterior Probability: Now, you use Bayes' theorem to update your belief. The \"posterior\" probability, after considering the test result, is calculated. If the test is positive, the posterior probability of the patient having the disease is much higher due to the positive test result. If the test is negative, the posterior probability remains low because the test's high accuracy indicates a true negative result."
   ]
  },
  {
   "cell_type": "markdown",
   "id": "8dacd835",
   "metadata": {},
   "source": [
    "2. What role does Bayes' theorem play in the concept learning principle?"
   ]
  },
  {
   "cell_type": "markdown",
   "id": "85d896af",
   "metadata": {},
   "source": [
    "Ans: \n",
    "Certainly, here's how Bayes' theorem plays a role in the concept learning principle, explained in simple terms:\n",
    "\n",
    "Combines Prior Knowledge and Evidence: Bayes' theorem helps combine what we already know (prior knowledge) with new evidence (observations) to update our beliefs more accurately.\n",
    "\n",
    "Adapts with New Information: As we learn more about a concept, Bayes' theorem allows us to adjust our beliefs based on the new data we receive.\n",
    "\n",
    "Calculates Updated Probabilities: It provides a formula to calculate the probability of a hypothesis (concept) being true after considering new evidence.\n",
    "\n",
    "Balances Old and New Information: Bayes' theorem takes into account both our initial beliefs (prior) and the strength of the evidence (likelihood) to give us a more balanced understanding.\n",
    "\n",
    "Foundational to Machine Learning: Many machine learning algorithms, like Naïve Bayes and Bayesian networks, are built on Bayes' theorem, making it a central principle in helping computers learn from data and make predictions."
   ]
  },
  {
   "cell_type": "markdown",
   "id": "6104df8a",
   "metadata": {},
   "source": [
    "3. Offer an example of how the Nave Bayes classifier is used in real life.\n",
    "\n"
   ]
  },
  {
   "cell_type": "markdown",
   "id": "c4859f66",
   "metadata": {},
   "source": [
    "Ans: Example: Email Spam Filtering\n",
    "\n",
    "Imagine you have an email inbox, and you want to filter out spam emails automatically.\n",
    "\n",
    "1. Training:\n",
    "You collect a bunch of emails, some marked as spam and some not.\n",
    "2. Learning Words:\n",
    "The Naïve Bayes classifier counts how often certain words appear in spam and non-spam emails.\n",
    "3. Calculating Probabilities:\n",
    "Using these word frequencies, the classifier calculates the likelihood that an email with those words is spam or not.\n",
    "4. Testing New Emails:\n",
    "When a new email arrives, the classifier calculates the chance of it being spam or not based on the words it contains."
   ]
  },
  {
   "cell_type": "markdown",
   "id": "6e41c8d2",
   "metadata": {},
   "source": [
    "4. Can the Nave Bayes classifier be used on continuous numeric data? If so, how can you go about doing it?"
   ]
  },
  {
   "cell_type": "markdown",
   "id": "18e377d1",
   "metadata": {},
   "source": [
    "Ans:\n",
    "    the Naïve Bayes classifier can be used with continuous numeric data. To apply it to such data:\n",
    "\n",
    "1. Discretization:\n",
    "You need to discretize (bin) the continuous numeric data into categories or intervals.\n",
    "2. Histogram or Kernel Density Estimation:\n",
    "You can estimate the probability distributions of each feature using histograms or kernel density estimation.\n",
    "3. Assume Distribution:\n",
    "Depending on the distribution of your data, you might assume a specific probability distribution, such as Gaussian, for each feature.\n",
    "4. Calculate Probabilities:\n",
    "For each class, calculate the likelihood probabilities using the chosen distribution for each feature.\n",
    "5. Apply Bayes' Theorem:\n",
    "Use Bayes' theorem to calculate the posterior probabilities for each class given the observed data."
   ]
  },
  {
   "cell_type": "markdown",
   "id": "c6d01583",
   "metadata": {},
   "source": [
    "\n",
    "5. What are Bayesian Belief Networks, and how do they work? What are their applications? Are they capable of resolving a wide range of issues?\n",
    "\n"
   ]
  },
  {
   "cell_type": "markdown",
   "id": "ad1098d9",
   "metadata": {},
   "source": [
    "Ans: Bayesian Belief Networks (BBNs):\n",
    "BBNs are graphical models that represent probabilistic relationships between variables using a network structure. They combine probability theory and graph theory to model complex relationships among variables.\n",
    "\n",
    "How They Work:\n",
    "\n",
    "Nodes represent variables, and edges show probabilistic dependencies.\n",
    "Conditional probability tables quantify relationships between variables.\n",
    "Inference is done to calculate probabilities given evidence.\n",
    "Applications:\n",
    "\n",
    "1.Medical Diagnosis: Diagnosing diseases based on patient symptoms and test results.\n",
    "2.Risk Assessment: Evaluating risks in complex systems like finance or engineering.\n",
    "3.Natural Language Processing: Understanding context and semantics in language.\n",
    "4.Image Recognition: Analyzing patterns in images and making predictions.\n",
    "5.Criminal Investigations: Analyzing evidence in criminal cases."
   ]
  },
  {
   "cell_type": "markdown",
   "id": "d7ebc0c9",
   "metadata": {},
   "source": [
    "6. Passengers are checked in an airport screening system to see if there is an intruder. Let I be the random variable that indicates whether someone is an intruder I = 1) or not I = 0), and A be the variable that indicates alarm I = 0). If an intruder is detected with probability P(A = 1|I = 1) = 0.98 and a non-intruder is detected with probability P(A = 1|I = 0) = 0.001, an alarm will be triggered, implying the error factor. The likelihood of an intruder in the passenger population is P(I = 1) = 0.00001. What are the chances that an alarm would be triggered when an individual is actually an intruder?"
   ]
  },
  {
   "cell_type": "markdown",
   "id": "a0832fc5",
   "metadata": {},
   "source": [
    "Ans: The question is asking for the probability that an alarm would be triggered (A = 1) given that an individual is actually an intruder (I = 1). In other words, it's asking for the true positive rate, which is a measure of the system's accuracy in detecting intruders.\n",
    "\n",
    "Given the information:\n",
    "\n",
    "Probability of detecting an intruder: P(A = 1 | I = 1) = 0.98 (true positive rate)\n",
    "Probability of being an intruder: P(I = 1) = 0.00001\n",
    "The probability of an alarm being triggered when an individual is an actual intruder is 0.98 or 98%."
   ]
  },
  {
   "cell_type": "markdown",
   "id": "56a0427e",
   "metadata": {},
   "source": [
    "7. An antibiotic resistance test (random variable T) has 1% false positives (i.e., 1% of those who are not immune to an antibiotic display a positive result in the test) and 5% false negatives (i.e., 1% of those who are not resistant to an antibiotic show a positive result in the test) (i.e. 5 percent of those actually resistant to an antibiotic test negative). Assume that 2% of those who were screened were antibiotic-resistant. Calculate the likelihood that a person who tests positive is actually immune (random variable D)."
   ]
  },
  {
   "cell_type": "markdown",
   "id": "5b3b14a8",
   "metadata": {},
   "source": [
    "Ans: This is a classic example of using Bayes' theorem to calculate the probability of a person being immune (D = 1) given that they tested positive (T = 1). Let's calculate this:\n",
    "\n",
    "P(T = 1 | D = 0) = 0.01 (false positive rate)\n",
    "P(T = 0 | D = 1) = 0.05 (false negative rate)\n",
    "P(D = 1) = 0.02 (proportion of antibiotic-resistant individuals in the population)\n",
    "Using Bayes' theorem:\n",
    "P(D = 1 | T = 1) = [P(T = 1 | D = 1) * P(D = 1)] / P(T = 1)\n",
    "\n",
    "Where:\n",
    "\n",
    "P(T = 1 | D = 1) = 1 - P(T = 0 | D = 1) = 1 - 0.05 = 0.95\n",
    "P(T = 1) = P(T = 1 | D = 0) * P(D = 0) + P(T = 1 | D = 1) * P(D = 1)\n",
    "= 0.01 * 0.98 + 0.95 * 0.02 = 0.0196 + 0.019 = 0.0386\n",
    "Plugging in the values:\n",
    "P(D = 1 | T = 1) = (0.95 * 0.02) / 0.0386 ≈ 0.488\n",
    "\n",
    "So, the likelihood that a person who tests positive is actually immune (antibiotic-resistant) is approximately 0.488 or 48.8%.\n",
    "\n",
    "\n",
    "\n",
    "\n",
    "\n"
   ]
  },
  {
   "cell_type": "markdown",
   "id": "51eca13f",
   "metadata": {},
   "source": [
    "8. In order to prepare for the test, a student knows that there will be one question in the exam that is either form A, B, or C. The chances of getting an A, B, or C on the exam are 30 percent, 20%, and 50 percent, respectively. During the planning, the student solved 9 of 10 type A problems, 2 of 10 type B problems, and 6 of 10 type C problems."
   ]
  },
  {
   "cell_type": "markdown",
   "id": "202c5ef7",
   "metadata": {},
   "source": [
    "Ans: P(A) = 0.30 (probability of selecting type A question)\n",
    "P(B) = 0.20 (probability of selecting type B question)\n",
    "P(C) = 0.50 (probability of selecting type C question)\n",
    "Given the student's preparation data:\n",
    "\n",
    "P(solving A problem | A question) = 9/10\n",
    "P(solving B problem | B question) = 2/10\n",
    "P(solving C problem | C question) = 6/10\n",
    "Using Bayes' theorem, we can calculate the probability of each type of question given the student's preparation data:\n",
    "\n",
    "P(A | solved) = (P(solved | A) * P(A)) / P(solved)\n",
    "P(B | solved) = (P(solved | B) * P(B)) / P(solved)\n",
    "P(C | solved) = (P(solved | C) * P(C)) / P(solved)\n",
    "\n",
    "Where P(solved) = P(solved | A) * P(A) + P(solved | B) * P(B) + P(solved | C) * P(C)\n",
    "\n",
    "Plugging in the values and calculations:\n",
    "\n",
    "P(A | solved) ≈ (0.9 * 0.30) / P(solved)\n",
    "P(B | solved) ≈ (0.2 * 0.20) / P(solved)\n",
    "P(C | solved) ≈ (0.6 * 0.50) / P(solved)\n",
    "\n",
    "To find P(solved), we can sum up the probabilities of solving for each type of question:\n",
    "\n",
    "P(solved) = P(solved | A) * P(A) + P(solved | B) * P(B) + P(solved | C) * P(C)\n",
    "P(solved) = (0.9 * 0.30) + (0.2 * 0.20) + (0.6 * 0.50)\n",
    "\n",
    "Finally, we can calculate P(A | solved), P(B | solved), and P(C | solved) using the calculated P(solved).\n",
    "\n"
   ]
  },
  {
   "cell_type": "markdown",
   "id": "a1c3907e",
   "metadata": {},
   "source": [
    "\n",
    "9. A bank installs a CCTV system to track and photograph incoming customers. Despite the constant influx of customers, we divide the timeline into 5 minute bins. There may be a customer coming into the bank with a 5% chance in each 5-minute time period, or there may be no customer (again, for simplicity, we assume that either there is 1 customer or none, not the case of multiple customers). If there is a client, the CCTV will detect them with a 99 percent probability. If there is no customer, the camera can take a false photograph with a 10% chance of detecting movement from other objects.\n",
    "\n",
    "                1. How many customers come into the bank on a daily basis (10 hours)?\n",
    "\n",
    "                2. On a daily basis, how many fake photographs (photographs taken when there is no customer) and how many missed photographs (photographs taken when there is a customer) are there?\n",
    "\n",
    "                3. Explain likelihood that there is a customer if there is a photograph? "
   ]
  },
  {
   "cell_type": "markdown",
   "id": "9edcb704",
   "metadata": {},
   "source": [
    "Ans: Customers Per Day:\n",
    "\n",
    "In each 5-minute period, there's a 5% chance of a customer entering.\n",
    "There are 12 periods in an hour (60 minutes / 5 minutes).\n",
    "There are 120 periods in 10 hours.\n",
    "Expected number of customers per day = 120 * 0.05 = 6.\n",
    "Daily Fake and Missed Photographs:\n",
    "\n",
    "False photographs occur when there's no customer: 10% of the time.\n",
    "Missed photographs happen when there's a customer, but the camera doesn't detect them: 1% of the time.\n",
    "Total fake photographs per day = 120 * 0.10 = 12.\n",
    "Total missed photographs per day = 120 * 0.01 = 1.2 (approximately).\n",
    "Likelihood of Customer Given Photograph:\n",
    "\n",
    "Using Bayes' theorem: P(Customer | Photograph) = (P(Photograph | Customer) * P(Customer)) / P(Photograph).\n",
    "P(Photograph | Customer) = 0.99 (camera detects customer).\n",
    "P(Customer) = 0.05 (customer entering).\n",
    "P(Photograph) = P(Photograph | Customer) * P(Customer) + P(Photograph | No Customer) * P(No Customer) = (0.99 * 0.05) + (0.10 * 0.95).\n",
    "Calculate P(Customer | Photograph) using Bayes' theorem formula."
   ]
  },
  {
   "cell_type": "markdown",
   "id": "bc2533d5",
   "metadata": {},
   "source": []
  },
  {
   "cell_type": "code",
   "execution_count": null,
   "id": "d8be8ed9",
   "metadata": {},
   "outputs": [],
   "source": []
  }
 ],
 "metadata": {
  "kernelspec": {
   "display_name": "Python 3 (ipykernel)",
   "language": "python",
   "name": "python3"
  },
  "language_info": {
   "codemirror_mode": {
    "name": "ipython",
    "version": 3
   },
   "file_extension": ".py",
   "mimetype": "text/x-python",
   "name": "python",
   "nbconvert_exporter": "python",
   "pygments_lexer": "ipython3",
   "version": "3.8.16"
  }
 },
 "nbformat": 4,
 "nbformat_minor": 5
}
