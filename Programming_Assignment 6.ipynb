{
 "cells": [
  {
   "cell_type": "markdown",
   "id": "15237df1",
   "metadata": {},
   "source": [
    "1.\tWrite a Python Program to Display Fibonacci Sequence Using Recursion?"
   ]
  },
  {
   "cell_type": "code",
   "execution_count": 1,
   "id": "9714a378",
   "metadata": {},
   "outputs": [],
   "source": [
    "def fibonacci_recursive(n):\n",
    "    if n <= 0:\n",
    "        return \"Invalid input. Please enter a positive integer.\"\n",
    "    elif n == 1:\n",
    "        return [0]\n",
    "    elif n == 2:\n",
    "        return [0, 1]\n",
    "    else:\n",
    "        fib_sequence = fibonacci_recursive(n - 1)\n",
    "        fib_sequence.append(fib_sequence[-1] + fib_sequence[-2])\n",
    "        return fib_sequence"
   ]
  },
  {
   "cell_type": "markdown",
   "id": "474a4c58",
   "metadata": {},
   "source": [
    "2.\tWrite a Python Program to Find Factorial of Number Using Recursion?"
   ]
  },
  {
   "cell_type": "code",
   "execution_count": 2,
   "id": "aee7b15d",
   "metadata": {},
   "outputs": [],
   "source": [
    "def factorial_recursive(n):\n",
    "    if n < 0:\n",
    "        return \"Invalid input. Factorial is not defined for negative numbers.\"\n",
    "    elif n == 0 or n == 1:\n",
    "        return 1\n",
    "    else:\n",
    "        return n * factorial_recursive(n - 1)"
   ]
  },
  {
   "cell_type": "markdown",
   "id": "b797f36e",
   "metadata": {},
   "source": [
    "3.\tWrite a Python Program to calculate your Body Mass Index?"
   ]
  },
  {
   "cell_type": "code",
   "execution_count": 5,
   "id": "6327e998",
   "metadata": {},
   "outputs": [],
   "source": [
    "def calculate_bmi(weight, height):\n",
    "    if weight <= 0 or height <= 0:\n",
    "        return \"Invalid input. Weight and height should be positive numbers.\"\n",
    "    height_in_meters = height / 100.0\n",
    "    bmi = weight / (height_in_meters ** 2)\n",
    "    return bmi"
   ]
  },
  {
   "cell_type": "markdown",
   "id": "2e39adb4",
   "metadata": {},
   "source": [
    "4.\tWrite a Python Program to calculate the natural logarithm of any number?"
   ]
  },
  {
   "cell_type": "code",
   "execution_count": 1,
   "id": "329ae041",
   "metadata": {},
   "outputs": [],
   "source": [
    "import math\n",
    "\n",
    "def calculate_natural_log(number):\n",
    "    try:\n",
    "        result = math.log(number)\n",
    "        return result\n",
    "    except ValueError as e:\n",
    "        print(\"Error\",e)\n",
    "        return None"
   ]
  },
  {
   "cell_type": "markdown",
   "id": "2f445351",
   "metadata": {},
   "source": [
    "5.\tWrite a Python Program for cube sum of first n natural numbers?"
   ]
  },
  {
   "cell_type": "code",
   "execution_count": 2,
   "id": "59f3b3e7",
   "metadata": {},
   "outputs": [],
   "source": [
    "def cube_sum_of_natural_numbers(n):\n",
    "    cube_sum = 0\n",
    "    for i in range(1, n + 1):\n",
    "        cube_sum += i**3\n",
    "    return cube_sum"
   ]
  },
  {
   "cell_type": "code",
   "execution_count": null,
   "id": "a9d18413",
   "metadata": {},
   "outputs": [],
   "source": []
  }
 ],
 "metadata": {
  "kernelspec": {
   "display_name": "Python 3 (ipykernel)",
   "language": "python",
   "name": "python3"
  },
  "language_info": {
   "codemirror_mode": {
    "name": "ipython",
    "version": 3
   },
   "file_extension": ".py",
   "mimetype": "text/x-python",
   "name": "python",
   "nbconvert_exporter": "python",
   "pygments_lexer": "ipython3",
   "version": "3.8.16"
  }
 },
 "nbformat": 4,
 "nbformat_minor": 5
}
