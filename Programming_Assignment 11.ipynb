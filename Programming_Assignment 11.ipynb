{
 "cells": [
  {
   "cell_type": "markdown",
   "id": "d1303b9e",
   "metadata": {},
   "source": [
    "1.\tWrite a Python program to find words which are greater than given length k?"
   ]
  },
  {
   "cell_type": "code",
   "execution_count": 1,
   "id": "1854e9f7",
   "metadata": {},
   "outputs": [
    {
     "name": "stdout",
     "output_type": "stream",
     "text": [
      "Words greater than length 5 : ['banana', 'orange', 'strawberry']\n"
     ]
    }
   ],
   "source": [
    "def find_words_greater_than_k(words, k):\n",
    "    result = []\n",
    "    for word in words:\n",
    "        if len(word) > k:\n",
    "            result.append(word)\n",
    "    return result\n",
    "\n",
    "word_list = [\"apple\", \"banana\", \"grape\", \"orange\", \"kiwi\", \"strawberry\"]\n",
    "k = 5\n",
    "\n",
    "long_words = find_words_greater_than_k(word_list, k)\n",
    "print(\"Words greater than length\", k, \":\", long_words)"
   ]
  },
  {
   "cell_type": "markdown",
   "id": "fecd8ef1",
   "metadata": {},
   "source": [
    "2.\tWrite a Python program for removing i-th character from a string?"
   ]
  },
  {
   "cell_type": "code",
   "execution_count": 2,
   "id": "4c272663",
   "metadata": {},
   "outputs": [
    {
     "name": "stdout",
     "output_type": "stream",
     "text": [
      "Original string: example\n",
      "String after removing i-th character: exaple\n"
     ]
    }
   ],
   "source": [
    "def remove_ith_character(input_string, i):\n",
    "    result = \"\"\n",
    "    for index, char in enumerate(input_string):\n",
    "        if index != i:\n",
    "            result += char\n",
    "    return result\n",
    "\n",
    "input_string = \"example\"\n",
    "i = 3\n",
    "\n",
    "new_string = remove_ith_character(input_string, i)\n",
    "print(\"Original string:\", input_string)\n",
    "print(\"String after removing i-th character:\", new_string)"
   ]
  },
  {
   "cell_type": "markdown",
   "id": "92f06434",
   "metadata": {},
   "source": [
    "3.\tWrite a Python program to split and join a string?"
   ]
  },
  {
   "cell_type": "code",
   "execution_count": 3,
   "id": "6a8736bc",
   "metadata": {},
   "outputs": [
    {
     "name": "stdout",
     "output_type": "stream",
     "text": [
      "Original string: Hello,World,Python\n",
      "Joined string: HelloWorldPython\n"
     ]
    }
   ],
   "source": [
    "def split_and_join(input_string, delimiter):\n",
    "    words = input_string.split(delimiter)\n",
    "    joined_string = \"\"\n",
    "    for word in words:\n",
    "        joined_string += word\n",
    "    return joined_string\n",
    "\n",
    "input_string = \"Hello,World,Python\"\n",
    "delimiter = \",\"\n",
    "\n",
    "joined_result = split_and_join(input_string, delimiter)\n",
    "print(\"Original string:\", input_string)\n",
    "print(\"Joined string:\", joined_result)"
   ]
  },
  {
   "cell_type": "markdown",
   "id": "3c27b82c",
   "metadata": {},
   "source": [
    "4.\tWrite a Python to check if a given string is binary string or not?"
   ]
  },
  {
   "cell_type": "code",
   "execution_count": 4,
   "id": "37a5a1c3",
   "metadata": {},
   "outputs": [
    {
     "name": "stdout",
     "output_type": "stream",
     "text": [
      "The input string is a binary string.\n"
     ]
    }
   ],
   "source": [
    "def is_binary_string(input_string):\n",
    "    for char in input_string:\n",
    "        if char != '0' and char != '1':\n",
    "            return False\n",
    "    return True\n",
    "\n",
    "input_string = \"101010\"\n",
    "result = is_binary_string(input_string)\n",
    "\n",
    "if result:\n",
    "    print(\"The input string is a binary string.\")\n",
    "else:\n",
    "    print(\"The input string is not a binary string.\")"
   ]
  },
  {
   "cell_type": "markdown",
   "id": "f001e5cb",
   "metadata": {},
   "source": [
    "5.\tWrite a Python program to find uncommon words from two Strings?"
   ]
  },
  {
   "cell_type": "code",
   "execution_count": 5,
   "id": "54cbcf22",
   "metadata": {},
   "outputs": [
    {
     "name": "stdout",
     "output_type": "stream",
     "text": [
      "Uncommon words: {'apple', 'orange'}\n"
     ]
    }
   ],
   "source": [
    "def find_uncommon_words(str1, str2):\n",
    "    words1 = set(str1.split())\n",
    "    words2 = set(str2.split())\n",
    "    uncommon_words = words1.symmetric_difference(words2)\n",
    "    return uncommon_words\n",
    "\n",
    "string1 = \"apple banana mango\"\n",
    "string2 = \"banana orange mango\"\n",
    "\n",
    "uncommon_words = find_uncommon_words(string1, string2)\n",
    "print(\"Uncommon words:\", uncommon_words)"
   ]
  },
  {
   "cell_type": "markdown",
   "id": "338ea04c",
   "metadata": {},
   "source": [
    "6.\tWrite a Python to find all duplicate characters in string?"
   ]
  },
  {
   "cell_type": "code",
   "execution_count": 6,
   "id": "77ac4136",
   "metadata": {},
   "outputs": [
    {
     "name": "stdout",
     "output_type": "stream",
     "text": [
      "Duplicate characters: ['g', 'r', 'm']\n"
     ]
    }
   ],
   "source": [
    "def find_duplicate_characters(input_string):\n",
    "    duplicates = [char for char in input_string if input_string.count(char) > 1]\n",
    "    return list(set(duplicates))\n",
    "\n",
    "input_string = \"programming\"\n",
    "duplicate_chars = find_duplicate_characters(input_string)\n",
    "print(\"Duplicate characters:\", duplicate_chars)"
   ]
  },
  {
   "cell_type": "markdown",
   "id": "7df1531b",
   "metadata": {},
   "source": [
    "7.\tWrite a Python Program to check if a string contains any special character?"
   ]
  },
  {
   "cell_type": "code",
   "execution_count": 7,
   "id": "6e8f4b86",
   "metadata": {},
   "outputs": [
    {
     "name": "stdout",
     "output_type": "stream",
     "text": [
      "The string contains special characters.\n"
     ]
    }
   ],
   "source": [
    "def contains_special_characters(input_string):\n",
    "    special_characters = \"!@#$%^&*()_+{}[]|;:,.<>?`~\"\n",
    "    for char in input_string:\n",
    "        if char in special_characters:\n",
    "            return True\n",
    "    return False\n",
    "\n",
    "input_string = \"Hello@123\"\n",
    "if contains_special_characters(input_string):\n",
    "    print(\"The string contains special characters.\")\n",
    "else:\n",
    "    print(\"The string does not contain any special characters.\")"
   ]
  },
  {
   "cell_type": "code",
   "execution_count": null,
   "id": "54dd4b7a",
   "metadata": {},
   "outputs": [],
   "source": []
  }
 ],
 "metadata": {
  "kernelspec": {
   "display_name": "Python 3 (ipykernel)",
   "language": "python",
   "name": "python3"
  },
  "language_info": {
   "codemirror_mode": {
    "name": "ipython",
    "version": 3
   },
   "file_extension": ".py",
   "mimetype": "text/x-python",
   "name": "python",
   "nbconvert_exporter": "python",
   "pygments_lexer": "ipython3",
   "version": "3.8.16"
  }
 },
 "nbformat": 4,
 "nbformat_minor": 5
}
